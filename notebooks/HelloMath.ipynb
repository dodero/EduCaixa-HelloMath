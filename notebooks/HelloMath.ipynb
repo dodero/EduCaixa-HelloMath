{
 "cells": [
  {
   "cell_type": "markdown",
   "id": "4871cb29",
   "metadata": {
    "cell_style": "center",
    "slideshow": {
     "slide_type": "slide"
    }
   },
   "source": [
    "# Paradigmas de programación informática para el pensamiento algebraico y computacional"
   ]
  },
  {
   "cell_type": "markdown",
   "id": "29dacbef",
   "metadata": {
    "cell_style": "center",
    "slideshow": {
     "slide_type": "slide"
    }
   },
   "source": [
    "## <span style=\"color:slateblue\"><center>1. ANTECEDENTES</center></span>\n",
    "## <span style=\"color:darkslateblue\"><center>El curriculum de Matemáticas en la LOMLOE</center></span>\n",
    "\n",
    "### <center>Saberes</center>\n",
    "#### <center>Sentido matemático</center>\n",
    "##### <center>Numérico, medida, espacial, algebraico, estocástico, socioafectivo</center>"
   ]
  },
  {
   "cell_type": "markdown",
   "id": "658a71bc",
   "metadata": {
    "cell_style": "center",
    "slideshow": {
     "slide_type": "notes"
    }
   },
   "source": [
    "El curriculum reciente de la LOMLOE propuesto para la ESO y Bachillerato [RD 217/2022](https://www.boe.es/diario_boe/txt.php?id=BOE-A-2022-4975) indica que la adquisición de las **competencias específicas** en Matemáticas se lleva a cabo a través de un conjunto de **saberes básicos** que integran conocimientos, destrezas y actitudes.\n",
    "\n",
    "Los saberes se estructuran en torno al concepto de **sentido matemático**. Los distintos sentidos (numérico, medida, espacial, algebraico, estocástico, socioafectivo) permiten emplear los saberes básicos de una manera funcional. "
   ]
  },
  {
   "cell_type": "markdown",
   "id": "ad2d7f6a",
   "metadata": {
    "slideshow": {
     "slide_type": "subslide"
    }
   },
   "source": [
    "### El sentido algebraico\n",
    "\n",
    "1. Patrones\n",
    "2. Modelo matemático\n",
    "3. Variable\n",
    "4. Igualdad y desigualdad\n",
    "5. Relaciones y funciones\n",
    "6. <span style=\"color:orangered\">Pensamiento computacional</span>"
   ]
  },
  {
   "cell_type": "markdown",
   "id": "878e7589",
   "metadata": {
    "slideshow": {
     "slide_type": "notes"
    }
   },
   "source": [
    "El **sentido algebraico** consta de los siguientes elementos:\n",
    "\n",
    "- *Patrones* − Patrones, pautas y regularidades: observación y determinación de la regla de formación en casos sencillos.  \n",
    "- *Modelo matemático* – Modelización de situaciones de la vida cotidiana usando representaciones matemáticas y el lenguaje algebraico.\n",
    "- *Variable* − comprensión del concepto en sus diferentes naturalezas.\n",
    "- *Igualdad y desigualdad* − \\[…\\] Álgebra simbólica. \\[…\\] Ecuaciones: resolución mediante el uso de la tecnología.\n",
    "- *Relaciones y funciones* − Relaciones cuantitativas \\[…\\] y clases de funciones que las modelizan. \\[…\\] Uso de diferentes representaciones simbólicas.\n",
    "- Pensamiento computacional\n",
    "\n",
    "Los primeros 5 elementos del sentido algebraico (patrón, modelo, variable, igualdad y función) nos van a servir para caracterizar qué es esto del **pensamiento computacional**, comparándolo con el **pensamiento algebraico**, a la hora de desplegar el aprendizaje de los saberes básicos de una manera funcional.\n",
    "\n",
    "¿Dónde se encuadra esto nuevo del pensamiento computacional en el RD 217/2022?"
   ]
  },
  {
   "cell_type": "markdown",
   "id": "fd0884c9",
   "metadata": {
    "slideshow": {
     "slide_type": "subslide"
    }
   },
   "source": [
    "#### Real Decreto 217/2022\n",
    "  \n",
    "<div class=\"alert alert-block alert-success\">\n",
    "    Por razones organizativas, en el <span style=\"color:darkblue\"><b>sentido algebraico</b></span> se ha incorporado el apartado <span style=\"color:darkblue\"><b>pensamiento computacional</b></span>, que no es exclusivo del sentido algebraico y debe trabajarse de forma transversal a lo largo de todo el proceso de enseñanza de la materia.\n",
    "</div>"
   ]
  },
  {
   "cell_type": "markdown",
   "id": "b5f9c4da",
   "metadata": {
    "slideshow": {
     "slide_type": "notes"
    }
   },
   "source": [
    "Como ya tenemos identificado dónde se encuadra el **pensamiento computacional** en matemáticas, vamos a analizarlo un poco más en profundidad."
   ]
  },
  {
   "cell_type": "markdown",
   "id": "c58db7de",
   "metadata": {
    "slideshow": {
     "slide_type": "subslide"
    }
   },
   "source": [
    "#### Pensamiento computacional  en el RD 217/2022\n",
    "\n",
    "<div class=\"alert alert-block alert-success\">\n",
    "    Relacionado con la <span style=\"color:darkblue\"><b>resolución de problemas</b></span> se encuentra el pensamiento computacional. Este incluye el análisis de datos, la organización lógica de los mismos, la búsqueda de soluciones en secuencias de pasos ordenados y la obtención de soluciones con instrucciones que puedan ser ejecutadas por una herramienta tecnológica programable, una persona o una combinación de ambas, lo cual amplía la capacidad de resolver problemas y promueve el uso eficiente de recursos digitales.\n",
    "</div>"
   ]
  },
  {
   "cell_type": "markdown",
   "id": "f0240527",
   "metadata": {
    "slideshow": {
     "slide_type": "notes"
    }
   },
   "source": [
    "En el RD 2172022 también se incluye, para la materia de **matemáticas**, numerosas menciones al término **pensamiento computacional**. La primera de las menciones lo relaciona con la **resolución de problemas**"
   ]
  },
  {
   "cell_type": "markdown",
   "id": "0ce14320",
   "metadata": {
    "cell_style": "center",
    "slideshow": {
     "slide_type": "subslide"
    }
   },
   "source": [
    "#### Pensamiento computacional  en el RD 217/2022\n",
    "\n",
    "**Matemáticas A:**\n",
    "<div class=\"alert alert-block alert-success\"><ul>\n",
    "<li> Generalización y <b>transferencia</b> de […] <b>resolución de problemas</b> a otras situaciones.\n",
    "<li> Interpretación y modificación de <b>algoritmos</b>.\n",
    "<li> <b>Formulación</b> de cuestiones susceptibles de ser <b>analizadas</b> mediante <b>programas</b> y otras herramientas.\n",
    "</ul></div>"
   ]
  },
  {
   "cell_type": "markdown",
   "id": "bf8314e6",
   "metadata": {
    "slideshow": {
     "slide_type": "notes"
    }
   },
   "source": [
    "El pensamiento computacional se estructura en la materia de matemáticas a dos niveles... A y B"
   ]
  },
  {
   "cell_type": "markdown",
   "id": "843acc18",
   "metadata": {
    "cell_style": "center",
    "slideshow": {
     "slide_type": "subslide"
    }
   },
   "source": [
    "#### Pensamiento computacional  en el RD 217/2022\n",
    "\n",
    "**Matemáticas B:**\n",
    "<div class=\"alert alert-block alert-success\"><ul>\n",
    "<li> Resolución de problemas mediante la <b>descomposición en partes</b>, […] y el <b>pensamiento algorítmico</b>.\n",
    "<li> Interpretación, modificación y creación de <b>algoritmos</b>.\n",
    "<li> <b>Formulación y análisis</b> de problemas de la vida cotidiana mediante <b>programas</b> y otras herramientas.\n",
    "</ul></div>"
   ]
  },
  {
   "cell_type": "markdown",
   "id": "12777c21",
   "metadata": {
    "slideshow": {
     "slide_type": "notes"
    }
   },
   "source": [
    "En definitiva, parece que el pensamiento computacional en Matemáticas tiene que ver con:\n",
    "- La resolución de problemas\n",
    "- La transferencia a otras situaciones\n",
    "- Los algoritmos y el pensamiento algorítmico\n",
    "- La descomposición en partes y la abstracción\n",
    "- La formulación y el análisis mediante programas"
   ]
  },
  {
   "cell_type": "markdown",
   "id": "c594381e",
   "metadata": {
    "slideshow": {
     "slide_type": "slide"
    }
   },
   "source": [
    "## <span style=\"color:slateblue\"><center>AGENDA</center></span>\n",
    "\n",
    "1. La **resolución de problemas** en matemáticas e informática\n",
    "2. Caracterización del **pensamiento computacional** en el **sentido algebraico**\n",
    "3. Los **algoritmos**\n",
    "4. Los **lenguajes de programación**\n",
    "5. La **abstracción**\n"
   ]
  },
  {
   "cell_type": "markdown",
   "id": "8d9578da",
   "metadata": {
    "slideshow": {
     "slide_type": "notes"
    }
   },
   "source": [
    "Por tanto, los anteriores elementos son los que van a guiar esta ponencia:\n",
    "\n",
    "- Primero analizaremos qué se entiende por resolución de problemas desde el punto de vista de las distintas disciplinas involucradas (sobre todo las matemáticas y la informática) y si existe transferencia de aprendizaje o transposición didáctica entre distintas situaciones y contextos educativos.\n",
    "- Luego entraremos de lleno en el pensamiento computacional, su caracterización y sus implicaciones en el sentido algebraico, tanto en matemáticas como en informática.\n",
    "- Para acabar, dedicaremos tiempo (y haremos algunos ejemplos prácticos) a tres de los conceptos fundamentales sobre los que sobrevuela el pensamiento computacional: los **algoritmos**, la **programación informática** y, finalmente, la **abstracción**.\n",
    "\n",
    "Este recorrido lo haremos sin perder nunca de vista el sentido algebraico."
   ]
  },
  {
   "cell_type": "markdown",
   "id": "cda79041",
   "metadata": {
    "slideshow": {
     "slide_type": "slide"
    }
   },
   "source": [
    "## <span style=\"color:slateblue\"><center>2. LA RESOLUCIÓN DE PROBLEMAS</center></span>\n",
    "\n",
    "### <span style=\"color:darkslateblue\"><center>en Matemáticas e Informática</center></span>"
   ]
  },
  {
   "cell_type": "markdown",
   "id": "176f23b5",
   "metadata": {
    "slideshow": {
     "slide_type": "notes"
    }
   },
   "source": [
    "¿Qué tiene que ver el pensamiento computacional con la resolución de problemas?\n",
    "\n",
    "¿Es lo mismo resolver un problema para las Matemáticas que para la Informática?\n",
    "\n",
    "Veamos algo de lo que dice la investigación al respecto de la resolución de problemas en matemáticas e informática:  "
   ]
  },
  {
   "cell_type": "markdown",
   "id": "85fded5e",
   "metadata": {
    "slideshow": {
     "slide_type": "subslide"
    }
   },
   "source": [
    "### ([Bråtig & Kilham, 2021](https://doi.org/10.1080/10986065.2020.1779012))\n",
    "\n",
    "#### <center>Resolver un problema en Matemáticas</center>\n",
    "\n",
    "<center>«Encontrar un resultado definitivo para una determinada clase de problemas»</center>"
   ]
  },
  {
   "cell_type": "markdown",
   "id": "89665b7b",
   "metadata": {
    "slideshow": {
     "slide_type": "notes"
    }
   },
   "source": [
    "En Matemáticas, resolver un problema implica «encontrar un resultado definitivo para **una determinada clase de problemas**» (Bråtig & Kilham, 2021).\n",
    "\n",
    "Según estos autores, resolver un problema en **matemáticas** no es exactamente lo mismo que resolverlo en **programación informática**."
   ]
  },
  {
   "cell_type": "markdown",
   "id": "48126480",
   "metadata": {
    "slideshow": {
     "slide_type": "subslide"
    }
   },
   "source": [
    "### ([Bråtig & Kilham, 2021](https://doi.org/10.1080/10986065.2020.1779012))\n",
    "\n",
    "#### Resolver un problema con [Lightbot](https://lightbot.com/)\n",
    "\n",
    "![Lightbot](assets/lightbot.jpeg)\n",
    "\n",
    "Juego de puzzle para enseñar la lógica más elemental de la programación informática: secuencias, bucles, condicionales, etc."
   ]
  },
  {
   "cell_type": "markdown",
   "id": "30b97dfa",
   "metadata": {
    "slideshow": {
     "slide_type": "notes"
    }
   },
   "source": [
    "Para estudiar la diferencia entre resolver un problema en matemáticas y resolverlo en programación informática, estos mismos autores usan ejemplos en los que los estudiantes resuelven una tarea simple de programación por bloques a través de un juego llamado **Lightbot**.\n",
    "\n",
    "Luego explican que, con las tareas simples de programación que plantea el juego, se aprende a resolver un problema específico, pero no «**una determinada clase de problemas**».\n",
    "\n",
    "### Resolución de problemas en tecnología\n",
    "\n",
    "Aprender a resolver un problema también es el objetivo de las materias más relacionadas con la tecnología, como la robótica y otras. Esta concepción de la resolución de problemas que tienen (Bråtig & Kilham, 2021) es más propia de la **tecnología** que de la **informática**."
   ]
  },
  {
   "cell_type": "markdown",
   "id": "3c7337fe",
   "metadata": {
    "slideshow": {
     "slide_type": "subslide"
    }
   },
   "source": [
    "\n",
    "<div align=\"center\">\n",
    "  <img align=\"center\" width=\"600\" src=\"assets/kallia-problemsolving.png\">\n",
    "</div>\n",
    "\n",
    "#### ([Kallia et al., 2021](https://doi.org/10.1080/14794802.2020.1852104))\n",
    "\n",
    "> 1. Trasladar situación a matemáticas/informática\n",
    "> 2. Razonar con matemáticas/informática\n",
    "> 3. Trasladar resultados al contexto original\n",
    "> 4. Verificar que se resuelve el problema real"
   ]
  },
  {
   "cell_type": "markdown",
   "id": "3862e42d",
   "metadata": {
    "slideshow": {
     "slide_type": "notes"
    }
   },
   "source": [
    "Kalia ha descrito la interrelación entre el **pensamiento matemático** y el pensamiento computacional a la hora de resolver un problema de la siguiente forma:\n",
    "\n",
    "1. Trasladar una situación o problema real a un modelo matemático y luego a un modelo computacional, fundamentado en las capacidades de abstracción, modelado e identificación de patrones.\n",
    "2. Razonar y trabajar con los conceptos y prácticas propias de las matemáticas y de la informática.\n",
    "3. Trasladar los resultados al contexto original del problema, fundamentado en capacidades de generalización.\n",
    "4. Verificar que realmente se resuelve el problema real, a través de capacidades de evaluación.\n",
    "\n",
    "Todas estas experiencias nos dan qué pensar:\n",
    "- ¿Es clara la diferencia entre la resolución de problemas en matemáticas y la resolución de problemas en informática? ¿y en otras disciplinas?\n",
    "..."
   ]
  },
  {
   "cell_type": "markdown",
   "id": "13d1c076",
   "metadata": {
    "slideshow": {
     "slide_type": "subslide"
    }
   },
   "source": [
    "### <span style=\"color:darkslateblue\">Transferencia de aprendizaje</span> ([Ambrose et al., 2010](https://www.wiley.com/en-us/How+Learning+Works:+Seven+Research+Based+Principles+for+Smart+Teaching-p-9780470484104))\n",
    "\n",
    "<div class=\"alert alert-block alert-info\">\n",
    "Aplicación de habilidades aprendidas en un contexto a otro contexto nuevo\n",
    "</div>\n",
    "    \n",
    "Entre dominios relacionados"
   ]
  },
  {
   "cell_type": "markdown",
   "id": "2de81995",
   "metadata": {
    "slideshow": {
     "slide_type": "notes"
    }
   },
   "source": [
    "Más preguntas...\n",
    "\n",
    "- ¿Existe algún tipo de **transferencia** de aprendizaje o **transposición** entre ambas disciplinas?\n",
    "\n",
    "La **transferencia de aprendizaje** es la aplicación de habilidades (o conocimiento, estrategias, métodos o hábitos) aprendidas en un contexto a otro contexto nuevo\n",
    "\n",
    "La transferencia es más probable que sea exitosa cuando se lleva a cabo entre dominios relacionados (por ejemplo, entre las matemáticas y la informática).  "
   ]
  },
  {
   "cell_type": "markdown",
   "id": "c74f6a2c",
   "metadata": {
    "slideshow": {
     "slide_type": "subslide"
    }
   },
   "source": [
    "### <span style=\"color:darkslateblue\">Transposición didáctica</span> ([Chevallard & Bosch, 2014](https://doi.org/10.1007/978-94-007-4978-8_48))\n",
    "\n",
    "<div class=\"alert alert-block alert-info\">\n",
    "Transformación de un objeto de conocimiento desde que se produce, se usa y se diseña para su aprendizaje hasta que se enseña de manera efectiva en un contexto determinado\n",
    "</div>\n",
    "\n",
    "Elaborar solución a un problema para ser transferida a otra persona o **máquina** ([Kallia et al., 2021](https://doi.org/10.1080/14794802.2020.1852104))"
   ]
  },
  {
   "cell_type": "markdown",
   "id": "c2ba59d5",
   "metadata": {
    "slideshow": {
     "slide_type": "notes"
    }
   },
   "source": [
    "Por otro lado...\n",
    "\n",
    "La noción de **transposición didáctica** fue introducida en las **matemáticas** para referirse a la transformación de un objeto de conocimiento desde el momento en que se produce, se usa y se diseña para su aprendizaje hasta el momento en que se enseña de manera efectiva en una escuela o un contexto determinado \n",
    "\n",
    "Según Kallia, se produce una **transposición** al elaborar la solución a un problema (matemático) de forma que ésta pueda ser transferida a otra persona **o a una máquina**."
   ]
  },
  {
   "cell_type": "markdown",
   "id": "694b82f5",
   "metadata": {
    "slideshow": {
     "slide_type": "slide"
    }
   },
   "source": [
    "## <span style=\"color:slateblue\"><center>3. EL PENSAMIENTO COMPUTACIONAL</center></span>"
   ]
  },
  {
   "cell_type": "markdown",
   "id": "f3f97751",
   "metadata": {
    "slideshow": {
     "slide_type": "notes"
    }
   },
   "source": [
    "Para poder caracterizar en qué consiste el pensamiento computacional, acudimos a algunas definiciones.  \n",
    "\n",
    "Hay muchas definiciones que han planteado mucha controversia."
   ]
  },
  {
   "cell_type": "markdown",
   "id": "67f272a3",
   "metadata": {
    "slideshow": {
     "slide_type": "subslide"
    }
   },
   "source": [
    "### <span style=\"color:darkslateblue\">Conceptos y prácticas de</span> ([Brennan & Resnick, 2012](http://scratched.gse.harvard.edu/ct/files/AERA2012.pdf))\n",
    "\n",
    "  - **Conceptos** – Secuencias / Bucles / Eventos / Paralelismo / Condicionales / Operadores / Datos\n",
    "  - **Prácticas** – Procedimientos incrementales e iterativos / Prueba y depuración / Reutilización y mezcla / Abstracción y modularización\n",
    "  - **Perspectivas** – Expresión / Conexión / Interrogación"
   ]
  },
  {
   "cell_type": "markdown",
   "id": "8a2eaae0",
   "metadata": {
    "slideshow": {
     "slide_type": "subslide"
    }
   },
   "source": [
    "### <span style=\"color:darkslateblue\">Conceptos de</span> ([Moreno-León et al., 2015](https://doi.org/10.6018/red/46/10)) y [DrScratch](http://www.drscratch.org/):\n",
    "\n",
    "  - Abstracción y descomposición de problemas\n",
    "  - Paralelismo\n",
    "  - Pensamiento lógico\n",
    "  - Sincronización\n",
    "  - Control de flujo\n",
    "  - Interacción con el usuario\n",
    "  - Representación de los datos"
   ]
  },
  {
   "cell_type": "markdown",
   "id": "fee3fc6e",
   "metadata": {
    "slideshow": {
     "slide_type": "notes"
    }
   },
   "source": [
    "[Moreno-León et al., 2015] redefinen los conceptos de pensamiento computacional en DrScratch como..."
   ]
  },
  {
   "cell_type": "markdown",
   "id": "2ca85314",
   "metadata": {
    "slideshow": {
     "slide_type": "subslide"
    }
   },
   "source": [
    "### [Oportunidades](https://docs.google.com/document/d/1U1rZeEoDvf3_rv6wg4x8vHKhpuctwy34/edit) de Aubanell en *HelloMath* Barcelona\n",
    "\n",
    "- Descomposición\n",
    "- Abstracción\n",
    "- Patrones\n",
    "- Algoritmos\n",
    "- Lenguaje\n",
    "- Datos\n",
    "- Errores\n",
    "- Actitudes"
   ]
  },
  {
   "cell_type": "markdown",
   "id": "69ed8f6d",
   "metadata": {
    "slideshow": {
     "slide_type": "notes"
    }
   },
   "source": [
    "En el nodo de Barcelona de HelloMath, *Antón Aubanell* se pregunta: ¿Cómo podemos contribuir desde las matemáticas de la ESO y el Bachillerato al desarrollo de determinados aspectos del Pensamiento Computacional?  \n",
    "\n",
    "Para ello presenta un cuadro de **oportunidades** para conectar basado en los siguientes conceptos de pensamiento computacional:..."
   ]
  },
  {
   "cell_type": "markdown",
   "id": "570b1b51",
   "metadata": {
    "slideshow": {
     "slide_type": "subslide"
    }
   },
   "source": [
    "### <span style=\"color:darkslateblue\">Conceptos de</span> [Exploding Dots](https://www.explodingdots.org/) \n",
    "\n",
    "- Abstracción\n",
    "- Identificación de patrones\n",
    "- Análisis y descomposición\n",
    "- Algoritmia\n",
    "- Depuración de errores"
   ]
  },
  {
   "cell_type": "markdown",
   "id": "cc0e8bf4",
   "metadata": {
    "slideshow": {
     "slide_type": "notes"
    }
   },
   "source": [
    "- Por su parte, la iniciativa conocida como [Exploding Dots](https://www.explodingdots.org/) considera que el pensamiento computacional incluye los siguientes conceptos...\n"
   ]
  },
  {
   "cell_type": "markdown",
   "id": "aa1d27a4",
   "metadata": {
    "slideshow": {
     "slide_type": "subslide"
    }
   },
   "source": [
    "### <span style=\"color:darkslateblue\">El pensamiento computacional en Matemáticas</span>\n",
    "\n",
    "<div class=\"alert alert-block alert-success\">\n",
    "Utilizar los principios del pensamiento computacional <b>organizando datos</b>, <b>descomponiendo</b> en partes, reconociendo <b>patrones</b>, interpretando, modificando y creando <b>algoritmos</b>, para <b>modelizar</b> situaciones y <b>resolver problemas</b> de forma eficaz.\n",
    "</div>\n",
    "\n",
    "<div class=\"alert alert-block alert-warning\">\n",
    "El pensamiento computacional entronca directamente con la resolución de problemas y el planteamiento de procedimientos, utilizando la <b>abstracción</b> para identificar los aspectos más relevantes, y la <b>descomposición</b> en tareas más simples con el objetivo de llegar a una <b>solución</b> del problema que pueda ser ejecutada por un <span style=\"color:darkblue\"><b>sistema informático</b></span>.\n",
    "</div>"
   ]
  },
  {
   "cell_type": "markdown",
   "id": "af78864a",
   "metadata": {
    "slideshow": {
     "slide_type": "notes"
    }
   },
   "source": [
    "Muchos de los conceptos y prácticas anteriores del pensamiento computacional están recogidos en el RD 217/2022. En concreto, la **4ª Competencia Específica** señala los principios, e indica lo siguiente...\n",
    "\n",
    "> El PC entronca directamente con la resolución de problemas y el planteamiento de procedimientos, utilizando la **abstracción** para identificar los aspectos más relevantes, y la **descomposición** en tareas más simples con el objetivo de llegar a **una solución del problema** que pueda ser ejecutada por un **sistema informático**.\n",
    "\n",
    "Lo que destaca es el hecho de que la solución del problema pueda ser ejecutada por un **sistema informático**. Esto coincide con las conclusiones de (Kallia et al., 2021) sobre el interés del pensamiento computacional en la **transposición** de la resolución de un problema (matemático) de forma que ésta pueda ser transferida a una máquina (v.g. el sistema informático)."
   ]
  },
  {
   "cell_type": "markdown",
   "id": "c21d75c2",
   "metadata": {
    "slideshow": {
     "slide_type": "subslide"
    }
   },
   "source": [
    "### <span style=\"color:darkslateblue\">Informática y pensamiento computacional</span>\n",
    "\n",
    "<div class=\"alert alert-block alert-warning\">\n",
    "La formulación, representación y resolución de problemas a través de herramientas y <span style=\"color:darkblue\"><b>conceptos propios de la informática</b></span> son características del pensamiento computacional.  \n",
    "</div>\n"
   ]
  },
  {
   "cell_type": "markdown",
   "id": "d73e52fc",
   "metadata": {
    "slideshow": {
     "slide_type": "notes"
    }
   },
   "source": [
    "¿Qué tiene que ver el pensamiento computacional con la **informática**? El mismo RD 217/2022 nos responde, hablando de **conceptos propios de la informática** y de **aspectos fundamentales de la informática** \n",
    "\n",
    "En este seminario intentaremos abordar algunos de esos **conceptos propios** de la informática que, con un fundamento matemático indiscutible, son características del pensamiento computacional."
   ]
  },
  {
   "cell_type": "markdown",
   "id": "22d4e5e2",
   "metadata": {
    "slideshow": {
     "slide_type": "subslide"
    }
   },
   "source": [
    "### <span style=\"color:darkslateblue\">Motivación</span>\n",
    "\n",
    "**Dra. _Carol Fletcher_, Universidad de Texas, en la CSEdCon 2022**\n",
    "\n",
    "<blockquote class=\"twitter-tweet\"><p lang=\"en\" dir=\"ltr\">“We need to stop using math as a gatekeeper for computer science and instead use CS as an on-ramp to success in mathematics.” <a href=\"https://twitter.com/drfletcher88?ref_src=twsrc%5Etfw\">@drfletcher88</a> 👏🏼 <a href=\"https://twitter.com/hashtag/csedcon?src=hash&amp;ref_src=twsrc%5Etfw\">#csedcon</a> <a href=\"https://t.co/ayUUUNwt1E\">pic.twitter.com/ayUUUNwt1E</a></p>&mdash; Stephanie Zircher (@szircher) <a href=\"https://twitter.com/szircher/status/1572610370237349888?ref_src=twsrc%5Etfw\">September 21, 2022</a></blockquote> <script async src=\"https://platform.twitter.com/widgets.js\" charset=\"utf-8\"></script>\n"
   ]
  },
  {
   "cell_type": "markdown",
   "id": "f2ccedea",
   "metadata": {
    "slideshow": {
     "slide_type": "notes"
    }
   },
   "source": [
    "La **motivación** es que quizá estos conceptos puedan ayudar a, como indica la Dra. *Carol Fletcher*, directora ejecutiva del [EPIC](https://www.tacc.utexas.edu/epic) del *Texas Advanced Computing Center* de la Universidad de Texas en Austin en la [CSEdCon 2022](https://web.cvent.com/event/65f0fab7-bd0c-4014-a8a0-beb842f388ae/websitePage:3a9a071e-8ef7-43e7-bb7c-b909dbea749d):  \n",
    "  \n",
    "> Hay que dejar de usar las matemáticas como la guardiana de la informática y, en su lugar, usar la informática como vía de acceso al éxito en matemáticas — *Carol Fletcher*, [CSEd conference](https://twitter.com/szircher/status/1572610370237349888?s=20&t=uRPY8N5VJt4LC6DumQ5s1w) \n",
    "\n",
    "¿Cuáles son algunos de estos *aspectos fundamentales de la informática* que están presentes en el CT y que se han incluido como competencia específica en el curriculum del RD 217/2022 de Matemáticas?  "
   ]
  },
  {
   "cell_type": "markdown",
   "id": "1bb013ec",
   "metadata": {
    "slideshow": {
     "slide_type": "subslide"
    }
   },
   "source": [
    "**_Delip Rao_, Unniversity of Pennsilvania, AI Research and Strategy**\n",
    "\n",
    "<blockquote class=\"twitter-tweet\"><p lang=\"en\" dir=\"ltr\">How much of math is “scary” because people are primed to think that way? I taught some really advanced math concepts to my pre-teen nephew like we were learning the next letter of the English alphabet and it went swimmingly. <a href=\"https://t.co/NpEkcGe6Md\">pic.twitter.com/NpEkcGe6Md</a></p>&mdash; Delip Rao (@deliprao) <a href=\"https://twitter.com/deliprao/status/1575173619478450176?ref_src=twsrc%5Etfw\">September 28, 2022</a></blockquote> <script async src=\"https://platform.twitter.com/widgets.js\" charset=\"utf-8\"></script>"
   ]
  },
  {
   "cell_type": "markdown",
   "id": "594940e7",
   "metadata": {
    "slideshow": {
     "slide_type": "notes"
    }
   },
   "source": [
    "También hay un tweet interesante de Delip Rao al respecto."
   ]
  },
  {
   "cell_type": "markdown",
   "id": "321e3054",
   "metadata": {
    "slideshow": {
     "slide_type": "slide"
    }
   },
   "source": [
    "### <span style=\"color:darkslateblue\">Aspectos fundamentales de la informática y el pensamiento computacional</span>\n",
    "\n",
    "1. <span style=\"color:orangered\"><b>Abstracción</b></span>\n",
    "2. Análisis y Descomposición\n",
    "3. Identificación de Patrones\n",
    "4. <span style=\"color:orangered\"><b>Algoritmos</b></span>\n",
    "5. Organización de Datos\n",
    "6. <span style=\"color:orangered\"><b>Lenguajes de programación</b></span>\n",
    "7. Depuración de Errores\n"
   ]
  },
  {
   "cell_type": "markdown",
   "id": "59cc48f2",
   "metadata": {
    "slideshow": {
     "slide_type": "notes"
    }
   },
   "source": [
    "A partir de las definiciones anteriores, podemos extraer algunos de esos «aspectos fundamentales de la informática» que están presentes en todas las definiciones de pensamiento computacional  \n",
    "\n",
    "En esta lista no están todos los que son, pero sí son todos los que están.\n",
    "\n",
    "Seguramente, la lista debería completarse con los elementos presentes en las definiciones de (Brennan & Resnick, 2012) y (Moreno-León et al., 2015), entre otros, pero en esta ponencia vamos a limitarnos a estos.\n",
    "\n",
    "A continuación, repasaremos uno por uno estos conceptos adoptados por el pensamiento computacional."
   ]
  },
  {
   "cell_type": "markdown",
   "id": "2f265422",
   "metadata": {
    "slideshow": {
     "slide_type": "subslide"
    }
   },
   "source": [
    "### <span style=\"color:darkslateblue\">Pensamiento algebraico</span>\n",
    "\n",
    "**_Eduardo Sáenz de Cabezón_, [BBC News](https://www.bbc.com/mundo/noticias-62883521)**:\n",
    "<div class=\"alert alert-block alert-info\">\n",
    "En el álgebra descubrí que había una idea y que esa idea resolvía todos los ejercicios de un cierto tipo. […] El álgebra era como elevar la mirada y ver que, al final, todos eran casos particulares de un mismo principio general.\n",
    "</div>\n",
    "\n",
    "- Sentido algebraico\n",
    "- Paradigmas de programación"
   ]
  },
  {
   "cell_type": "markdown",
   "id": "42e3d8ec",
   "metadata": {
    "slideshow": {
     "slide_type": "notes"
    }
   },
   "source": [
    "Los analizamos desde un punto de vista común a matemáticas e informática: el **sentido algebraico**.\n",
    "\n",
    "¿Por qué el sentido algebraico?\n",
    "- 1º porque así lo expresa el RD 217/2022 (las «razones organizativas» anteriores).\n",
    "- 2º porque es el álgebra la que da sentido a lo que vamos a ver: que hay distintos **paradigmas de la programación** con un fuerte componente matemático.\n",
    "\n",
    "De hecho, el **pensamiento algebraico** es distinto al pensamiento computacional, pues ambos usan distintos lenguajes y distintas notaciones.\n",
    "\n",
    "El álgebra abstracta trata de ideas para resolver todos los ejercicios de un cierto tipo, como dice Eduardo Sáenz de cabezón en una reciente entrevista en BBC News. "
   ]
  },
  {
   "cell_type": "markdown",
   "id": "79168c57",
   "metadata": {
    "slideshow": {
     "slide_type": "notes"
    }
   },
   "source": [
    "Se ha investigado mucho en la intersección del pensamiento computacional y el **pensamiento algebraico** ([Bråtig & Kilham, 2021](https://doi.org/10.1080/10986065.2020.1779012)). Aquí va un adelanto sobre qué dicen los investigadores al respecto de tres de los aspectos fundamentales propuestos antes:\n",
    "\n",
    "- Sobre los **algoritmos**:  \n",
    "  ...\n",
    "  En esta definición de *algoritmo* ya se nota un cierto olor a Álgebra \n",
    "\n",
    "- Sobre los **lenguajes (de programación)**:\n",
    "  ...\n",
    "  De hecho, hay lenguajes y paradigmas de programación con un fuerte componente algebraico: los funcionales, como veremos más adelante.  \n",
    "\n",
    "- Sobre la **abstracción**:  \n",
    "  ...\n",
    "  Para poder «resolver todos los problemas de un cierto tipo», hace falta poder cambiar fácilmente de nivel de abstracción. Según Knuth, eso lo suelen hacer bien los buenos programadores."
   ]
  },
  {
   "cell_type": "markdown",
   "id": "02e55ca7",
   "metadata": {
    "slideshow": {
     "slide_type": "slide"
    }
   },
   "source": [
    "## <span style=\"color:slateblue\"><center> 4. LOS ALGORITMOS</center></span>"
   ]
  },
  {
   "cell_type": "markdown",
   "id": "90dd5562",
   "metadata": {
    "slideshow": {
     "slide_type": "subslide"
    }
   },
   "source": [
    "Sobre los **algoritmos**: ([Brousseau, 1997, p. 129](https://doi.org/10.1007/0-306-47211-2))\n",
    "<div class=\"alert alert-block alert-info\">\n",
    "Un algoritmo […] es una secuencia finita de instrucciones ejecutables que permite hallar un resultado definido para una determinada clase de problemas.  \n",
    "</div>"
   ]
  },
  {
   "cell_type": "markdown",
   "id": "b3f48c2c",
   "metadata": {
    "slideshow": {
     "slide_type": "subslide"
    }
   },
   "source": [
    "### <span style=\"color:darkslateblue\">Concepto de algoritmo</span>\n",
    "\n",
    "- Según Lightbot: «un conjunto de instrucciones necesarias para resolver una tarea»\n",
    "- Según (Bråtig & Kilham, 2021): «alineada con cómo se describen los algoritmos en informática» (!)\n",
    "\n",
    "### <span style=\"color:darkslateblue\">Paradigmas de programación</span>\n",
    "\n",
    "- Imperativo\n",
    "- Orientado a Objetos\n",
    "- Funcional (**sentido algebraico**)"
   ]
  },
  {
   "cell_type": "markdown",
   "id": "7d09406b",
   "metadata": {
    "slideshow": {
     "slide_type": "notes"
    }
   },
   "source": [
    "Hay concepciones simplistas de lo que es un algoritmo, como la de [lightbot.com](lightbot.com)), que no se aplican a «encontrar un resultado definitivo para una determinada clase de problemas», sino que están planteados como «un conjunto de instrucciones necesarias para resolver una tarea».\n",
    "\n",
    "(Bråtig & Kilham, 2021) afirman que esta descripción de lo que es un algoritmo en Lightbot «está alineada con cómo se describen los algoritmos en informática».\n",
    "\n",
    "Esta concepción no es completamente acertada, sino un tanto estrecha. En todo caso, dicha concepción puede venir dada por algunas interpretaciones simplistas de lo que es el *pensamiento computacional*, pero no por la informática, ni siquiera por la programación.\n",
    "\n",
    "Expresar un algoritmo en lenguaje matemático es diferente a expresarlo en algunos lenguajes de programación, especialmente con los dominantes de la programación imperativa e incluso la orientada a objetos.\n",
    "\n",
    "Pero el **sentido algebraico** está presente en otros muchos lenguajes de programación que siguen un paradigma alternativo, ni siquiera más moderno (sino lo contrario, más antiguo), que es el **paradigma funcional**.  \n",
    "\n",
    "Para justificar lo limitado de esta concepción, intentaremos analizar las diferencias más notables a la hora de expresar la resolución de un problema, usando una expresión algebraica y usando la expresión del mismo problema en algunos lenguajes de programación.\n",
    "\n",
    "Empecemos por los conceptos de **variable** y **función**, donde se encuentran las primeras diferencias.  "
   ]
  },
  {
   "cell_type": "markdown",
   "id": "2c613b72",
   "metadata": {
    "slideshow": {
     "slide_type": "slide"
    }
   },
   "source": [
    "## <span style=\"color:slateblue\"><center>4.1 Variables</center></span>\n",
    "\n",
    "### Algoritmo: <span style=\"color:darkslateblue\">multiplicación como sumas sucesivas</span>\n",
    "([Bråtig & Kilham, 2021](https://doi.org/10.1080/10986065.2020.1779012))\n",
    "\n",
    "<div align=\"right\">\n",
    "    <div style=\"text-align:right\"><b>Implementación en Scratch</b></div>\n",
    "    <img align=\"right\" width=\"500\" src=\"assets/scratch-variables.png\">\n",
    "</div>\n"
   ]
  },
  {
   "cell_type": "markdown",
   "id": "420d0ce3",
   "metadata": {
    "slideshow": {
     "slide_type": "notes"
    }
   },
   "source": [
    "Para analizar el concepto de variable, emplearemos como ejemplo un algoritmo de **multiplicación como sumas sucesivas** que proponen (Bråtig & Kilham, 2021)\n"
   ]
  },
  {
   "cell_type": "markdown",
   "id": "7048c5d9",
   "metadata": {
    "slideshow": {
     "slide_type": "subslide"
    }
   },
   "source": [
    "**Implementación en Scratch**\n",
    "\n",
    "![](assets/scratch-variables.png)"
   ]
  },
  {
   "cell_type": "markdown",
   "id": "c92206c2",
   "metadata": {
    "slideshow": {
     "slide_type": "notes"
    }
   },
   "source": [
    "Podemos expresar el algoritmo usando **programación imperativa** y bloques en Scratch.\n",
    "\n",
    "La solución de Scratch emplea dos variables, `sum` y `count`, que solo sirven para seguir la pista del **proceso** realizado como parte del cálculo."
   ]
  },
  {
   "cell_type": "markdown",
   "id": "64ce3a11",
   "metadata": {
    "slideshow": {
     "slide_type": "subslide"
    }
   },
   "source": [
    "**Descomposición algebraica de 17 × 5**:\n",
    "\n",
    "```text\n",
    "[Línea 1ª] 17 × 1 = 17 × 0 + 17 = 0 + 17 = 17\n",
    "[Línea 2ª] 17 × 2 = 17 × 1 + 17 = 17 + 17 = 34\n",
    "[Línea 3ª] 17 × 3 = 17 × 2 + 17 = 34 + 17 = 51\n",
    "[Línea 4ª] 17 × 4 = 17 × 3 + 17 = 51 + 17 = 68\n",
    "[Línea 5ª] 17 × 5 = 17 × 4 + 17 = 68 + 17 = 85\n",
    "```\n",
    "\n",
    "```text\n",
    "17 × 5 = 17 × 4 + 17 =\n",
    "       = 17 × 3 + 17 + 17 =\n",
    "       = 17 × 2 + 17 + 17 + 17 =\n",
    "       = 17 × 1 + 17 + 17 + 17 + 17 =\n",
    "       = 17 × 0 + 17 + 17 = 17 + 17 + 17\n",
    "```\n",
    "\n",
    "**Expresión algebraica de un sumatorio**:\n",
    "    $\\sum\\limits_{i=1}^{n} a_i = a_1+a_2+...+a_n$"
   ]
  },
  {
   "cell_type": "markdown",
   "id": "27b93631",
   "metadata": {
    "slideshow": {
     "slide_type": "notes"
    }
   },
   "source": [
    "Pero también podemos hacer una descomposición algebraica de la multiplicación como sumas suvesivas.\n",
    "\n",
    "Podríamos creer que las variables anteriores de Scratch podrían insertarse de alguna forma en esta descomposición.\n",
    "\n",
    "Sin embargo, insertar la variable `sum` en una línea separada imposibilitaría usar `sum` en otra línea.\n",
    "\n",
    "Por ejemplo, usar `sum` en las líneas 2ª y 3ª implicaría que `34` = `51`. \n",
    "\n",
    "Compárese esto con la manera de representar algebraicamente una expresión como un sumatorio.\n",
    "- En matemáticas, `count` suele representarse como una **marca de conteo** para llevar la cuenta del número de sumas repetidas realizadas.\n",
    "- En cambio, en la programación imperativa usada por Scratch, se usa un trozo de memoria para el mismo propósito.  "
   ]
  },
  {
   "cell_type": "markdown",
   "id": "cad5af1d",
   "metadata": {
    "slideshow": {
     "slide_type": "subslide"
    }
   },
   "source": [
    "### <span style=\"color:darkslateblue\">Concepto algebraico de variable</span> ([Ely & Adams, 2012](https://doi.org/10.1007/s13394-011-0029-9))\n",
    "\n",
    "- **Desconocido** (_unknown_):\n",
    "    $x$ en la expresión $ax^2+bx+c$\n",
    "- **Placeholder**:\n",
    "    $a$, $b$ y $c$ en la expresión $ax^2+bx+c$\n",
    "- **Variable**:\n",
    "    $x$ o $y$ en la expresión $y = x^2 + 1$"
   ]
  },
  {
   "cell_type": "markdown",
   "id": "dcdc79fd",
   "metadata": {
    "slideshow": {
     "slide_type": "notes"
    }
   },
   "source": [
    "En álgebra, el concepto de variable puede corresponder a una de las siguientes interpretaciones :\n",
    "\n",
    "- Algo *desconocido*: corresponde a una determinada cantidad en una ecuación, que aún debe ser resuelta. Algo desconocido no puede cambiar su valor hasta que éste no sea determinado por la ecuación. \n",
    "- Un (*placeholder*): corresponde a una letra que aparece en sustitución de un número que no será proporcionado hasta que no llegue una cierta situación o contexto. \n",
    "- Algo *variable*: corresponde a una cantidad que varía: Las variables de esta ecuación puede parecer que cambian de valor, pero el cambio está relacionado con diferentes *casos* de un problema. Por ejemplo:\n",
    "\n",
    "  - «Caso 1: si suponemos que x vale 1, entonces y valdrá 2»\n",
    "  - «Caso 2: si suponemos que x vale 2, entonces y valdrá 5»\n",
    "  \n",
    "En cualquiera de estos casos, permitimos que la variable x tome un valor determinado que hará que y sea **desconocida** y pueda ser resuelta fácilmente.\n",
    "\n",
    "No podemos asignar a x el valor 1 y luego derivar otro valor de x para el mismo caso, pues esto constituiría una contradicción (x=1 y x=2 implicaría 1=2)."
   ]
  },
  {
   "cell_type": "markdown",
   "id": "f4c61d55",
   "metadata": {
    "slideshow": {
     "slide_type": "subslide"
    }
   },
   "source": [
    "### <span style=\"color:darkslateblue\">Concepto de variable según el <i>registro</i> del lenguaje de programación</span>\n",
    "\n",
    "- Registro de la programación imperativa\n",
    "- Registro de la programación con bloques\n",
    "- Registro **algebraico** de la programación funcional"
   ]
  },
  {
   "cell_type": "markdown",
   "id": "fc6281f0",
   "metadata": {
    "slideshow": {
     "slide_type": "notes"
    }
   },
   "source": [
    "En **programación imperativa**, podemos usar una sola variable cuyo valor cambia durante la ejecución del programa, mientras que en matemáticas se necesitan variables indexadas $a_i$ para conseguir lo mismo.  \n",
    "\n",
    "Muchos de los lenguajes de **programación con bloques**, como Scratch, siguen el paradigma de de la programación imperativa. \n",
    "\n",
    "El problema de la multiplicación por sumas sucesivas es un problema matemático y por ello debe emplear variables con una significación matemática (como desconocida, placeholder o variable).\n",
    "\n",
    "Sin embargo, el programa incluye una variable de un **tipo diferente** (el *contador*), que cambia a medida que el programa es ejecutado. Parece que este tipo de variable no se puede convertir fácilmente a una notación algebraica, pues la manera de representar esta idea es diferente en ambos registros (el algebraico y el de la programación imperativa).\n",
    "\n",
    "Esto sucede por usar una concepción tan limitada de lo que es la programación informática. Limitada hasta tal punto que puede causar una disonancia cuando se intenta enseñar matemáticas con el enfoque del *pensamiento computacional* utilizando Scratch. Pero esto no es así en todos los entornos de programación, como veremos a continuación con un ejemplo en **Snap!**.\n",
    "\n",
    "En programación **imperativa** tradicional, las instrucciones se ejecutan en orden. Cuando una instrucción asigna un nuevo valor a una variable, esto no constituye un caso nuevo, sino que simplemente se está cambiando el valor registrado en un determinado lugar en la memoria (de una cierta **máquina abstracta**) que corresponde a la variable."
   ]
  },
  {
   "cell_type": "markdown",
   "id": "0d59633e",
   "metadata": {
    "slideshow": {
     "slide_type": "subslide"
    }
   },
   "source": [
    "### <span style=\"color:darkslateblue\">¿Cómo representar el tiempo?</span>\n",
    "\n",
    "- Cálculo diferencial (Leibniz): $$\\begin{align} v=\\frac{dx}{dt} && a=\\frac{dv}{dt}=\\frac{d^2x}{dt^2}\\end{align}$$\n",
    "- Método de los fluxions (Newton): $$\\begin{align} v=\\dot{x} && a=\\dot{v}=\\ddot{x}\\end{align}$$\n",
    "\n",
    "### <span style=\"color:darkslateblue\">¿Cómo representar valores no numéricos?</span>\n",
    "\n",
    "- Objetos\n",
    "- Tipos algebraicos"
   ]
  },
  {
   "cell_type": "markdown",
   "id": "8e2c78cd",
   "metadata": {
    "slideshow": {
     "slide_type": "notes"
    }
   },
   "source": [
    "Podríamos hablar más sobre el concepto de variable en matemáticas e informática.\n",
    "- ¿Cómo representar la variación de cantidades fluidas (por ejemplo, a lo largo del tiempo)\n",
    "- ¿Cómo representar valores no numéricos?\n",
    "\n",
    "1. **Tiempo**: En programación imperativa las variables pueden cambiar su valor a lo largo del tiempo.\n",
    "\n",
    "En el álgebra abstracta no es fácil representar el aspecto *tiempo*, aunque la misma variable puede ser sustituida por valores diferentes que correspondan a casos independientes distintos.\n",
    "\n",
    "Si se quiere introducir la dimensión de **tiempo**, hay que acudir al **cálculo diferencial**.\n",
    "- Que fue ideado en tiempos de Leibniz para resolver problemas *cuando no existían ordenadores*.\n",
    "- Incluso, un poco antes, Newton ideó el método de los **fluxions** para representar *cantidades fluidas* que varían\n",
    "\n",
    "Hoy día tienen mayor éxito las representaciones computacionales discretas alternativas a las representaciones algebraicas del cálculo diferencial e integral para **modelar** y así empezar a resolver estos problemas.\n",
    "\n",
    "2. **Valores no numéricos**: Las variables en programación pueden albergar cosas *distintas a números*. Uno de los principios de la **programación orientada a objetos** es poder representar tipos como objetos y clases. También la programación funcional se apoya en los **tipos algebraicos** para representaciones simbólicas de cosas no numéricas."
   ]
  },
  {
   "cell_type": "markdown",
   "id": "a8e43cbb",
   "metadata": {
    "slideshow": {
     "slide_type": "subslide"
    }
   },
   "source": [
    "### <span style=\"color:darkslateblue\"><center>Números pares e impares en Snap!</center></span>\n",
    "\n",
    "<div>\n",
    "  <div style=\"text-align:left\"><span style=\"color:orangered\"><b>Versión 1</b></span></div>\n",
    "  <div style=\"text-align:right\"><span style=\"color:orangered\"><b>Versión 2</b></span></div>\n",
    "</div>\n",
    "\n",
    "<div align=\"center\">\n",
    "  <img align=\"left\" width=\"400\" src=\"assets/snap-variable-index.png\">\n",
    "  <img align=\"right\" width=\"350\" src=\"assets/snap-foreach.png\">\n",
    "</div>\n",
    "                                   "
   ]
  },
  {
   "cell_type": "markdown",
   "id": "82163f4b",
   "metadata": {
    "slideshow": {
     "slide_type": "notes"
    }
   },
   "source": [
    "Esta es una **primera versión** de un procedimiento `evens(data)` y tomado del manual de Snap!  \n",
    "\n",
    "El algoritmo filtra los números impares (*odd*) de una lista, quedándose solo con los pares (*even*). Para su implementación usa un estilo de **programación imperativa**. Utiliza una variable `index` para llevar la cuenta del número de elementos procesados de la lista.\n",
    "\n",
    "Esta implementación adolece del problema descrito por (Bråtig & Kilham, 2021) en el ejemplo de la multiplicación por sumas sucesivas: la variable `index` expresada en el lenguaje de programación no tiene una correspondencia con la expresión algebraica del concepto equivalente.\n",
    "\n",
    "La **versión 2** elimina el problema **semiótico** de la variable `index` para recorrer la lista\n",
    "El lenguaje de Snap! permite expresar iteraciones sin necesidad de tener que idear una variable de iteración explícita para dicho propósito.\n",
    "\n",
    "En **conclusión**, las críticas de Bratig & Kilham al «lenguaje de expresión del pensamiento computacional» frente al lenguaje de expresión del pensamiento algebraico están basadas en una visión algo estrecha de lo que es el pensamiento computacional y de lo que es la programación informática.\n",
    "\n",
    "El lenguaje de programación con que se expresa una computación puede ser lo suficientemente rico y diverso como para aliviar las diferencias semióticas expresadas en cuanto al concepto de variable.\n",
    "\n",
    "La expresión `for each item in data` es  más cercana una expresión algebraica que la expresión `for index = 1 to lenght of data`.\n",
    "\n",
    "Aún así, queda camino por recorrer en la expresión de dicho concepto, en aras de una expresión más acorde con el pensamiento algebraico, como veremos más adelante."
   ]
  },
  {
   "cell_type": "markdown",
   "id": "7ee053d4",
   "metadata": {
    "slideshow": {
     "slide_type": "slide"
    }
   },
   "source": [
    "## <span style=\"color:slateblue\"><center>4.2 Funciones</center></span>\n",
    "\n",
    "En **programación imperativa**: (según [Hour of code](https://code.org/learn))\n",
    "\n",
    "<div class=\"alert alert-block alert-danger\">\n",
    "<i>Un conjunto específico de instrucciones para llevar a cabo una cierta tarea; algo así como una receta</i>\n",
    "</div>\n",
    "\n",
    "En **matemáticas**:\n",
    "\n",
    "- Una función no modifica el estado de su entorno\n",
    "\n",
    "Con un **sentido algebraico**:\n",
    "\n",
    "- λ-calculus y programación funcional"
   ]
  },
  {
   "cell_type": "markdown",
   "id": "f4af889f",
   "metadata": {
    "slideshow": {
     "slide_type": "notes"
    }
   },
   "source": [
    "En ciertos lenguajes de programación, el significado de funciones y procedimientos es a veces similar. Por ejemplo, los tutoriales de *Hour of Code* describen una función como «un conjunto específico de instrucciones para llevar a cabo una cierta tarea; algo como una receta»\n",
    "\n",
    "Esta descripción de *función* se parece mucho a la de muchos de los entornos de programación por bloques. Dichas descripciones difieren significativamente del concepto de **función matemática**.\n",
    "\n",
    "(Bråtig & Kilham, 2021) explican que la diferencia fundamental es que la **función en programación**, además de devolver un valor, puede tener efectos colaterales: la función modifica el estado de su entorno local o presenta una interacción observable con el mundo exterior.\n",
    "\n",
    "Esto es cierto solo para la concepción restrictiva de la programación informática que el pensamiento computacional ha adoptado, basada en una concepción limitada de lo que es una función en programación, basada en el paradigma imperativo o incluso el orientrado a objetos. ¡Pero no es así en **programación funcional**! Que también es programación informática, solo que con un mayor **sentido algebraico**.\n",
    "\n",
    "De hecho, la programación funcional es el enfoque primigenio para la programación informática. Está basada en el *lambda calculus* de [Alonzo Church](https://en.wikipedia.org/wiki/Alonzo_Church), el director de tesis de [Alan Turing](https://en.wikipedia.org/wiki/Alan_Turing), considerado padre de la Ciencia de la Computación.\n",
    "\n",
    "En programación funcional las funciones no pueden tener efectos colaterales. El paradigma funcional de la programación tiene un fuerte sentido algebraico y es, fundamentalmente, programación informática.\n",
    "\n",
    "Vamos a ver un ejemplo, sin salirnos de un lenguaje de bloques..."
   ]
  },
  {
   "cell_type": "markdown",
   "id": "473ce52e",
   "metadata": {
    "slideshow": {
     "slide_type": "subslide"
    }
   },
   "source": [
    "### <span style=\"color:darkslateblue\">Números pares e impares en Snap!</span>\n",
    "\n",
    "<div style=\"text-align:right\"><span style=\"color:orangered\"><b>Versión 3 (funcional)</b></span></div>\n",
    "\n",
    "<div align=\"center\">\n",
    "  <img align=\"center\" width=\"800\" src=\"assets/snap-funcional.png\">\n",
    "</div>\n"
   ]
  },
  {
   "cell_type": "markdown",
   "id": "541e1157",
   "metadata": {
    "slideshow": {
     "slide_type": "notes"
    }
   },
   "source": [
    "Volvamos al ejemplo de `evens(data)` del manual de Snap! Además de las versiones imperativas anteriores, el lenguaje de Snap! permite implementar una versión basada en el paradigma de la programación funcional\n",
    "\n",
    "Snap! incluye como característica avanzada, la posibilidad de definir funciones inspiradas en el *lambda calculus*, para manipular otras funciones y procedimientos como si fuesen datos (es decir, incorpora **funciones de orden superior** o lambdas).\n",
    "\n",
    "En esta versión, ¿dónde está el bucle?\n",
    "\n",
    "El bucle ha desaparecido. Se ha sustituido por:\n",
    "- una llamada recursiva a la función `evens`, cuyo resultado se usa para construir con `in front of` el valor a calcular\n",
    "- un caso básico que decide qué hacer cuando la lista esté vacía\n",
    "\n",
    "Por supuesto, también ha desaparecido la **variable de control** del bucle que soliviantaba a (Bråtig & Kilham, 2021).\n",
    "\n",
    "Ahora la lista de números enteros es un **tipo algebraico**, que utiliza dos constructores básicos:\n",
    "\n",
    "- Un constructor para **concatenar** un valor entero a una lista\n",
    "- Otro constructor para devolver una **lista vacía**"
   ]
  },
  {
   "cell_type": "markdown",
   "id": "cb812ac5",
   "metadata": {
    "slideshow": {
     "slide_type": "subslide"
    }
   },
   "source": [
    "### Descomposición algebraica de `evens(…)`:\n",
    "\n",
    "```text\n",
    "evens([10, 7, 11, 8, 15])\n",
    "    = 10 :: evens([7, 11, 8, 15])\n",
    "    = 10 :: evens([11, 8, 15])\n",
    "    = 10 :: evens([8, 15])\n",
    "    = 10 :: 8 :: evens([15])\n",
    "    = 10 :: 8 :: evens([ ])\n",
    "    = 10 :: 8\n",
    "    = [10, 8]\n",
    "```"
   ]
  },
  {
   "cell_type": "markdown",
   "id": "cbd65b23",
   "metadata": {
    "slideshow": {
     "slide_type": "notes"
    }
   },
   "source": [
    "Así, la descomposición algebraica de una expresión como `evens([10, 7, 11, 8, 15])` se parece mucho a como se expresaba la descomposición algebraica de la operación de multiplicación por sumas sucesivas\n",
    "\n",
    "- El símbolo `::` (de nombre *cons*) representa uno de los constructores de los valores del tipo algebraico, que en el lenguaje de Snap! se representa por el bloque `in front of`.  \n",
    "\n",
    "- El símbolo `[ ]` (de nombre *nil*) representa otro de los constructores de los valores del tipo algebraico: el valor nulo para el tipo lista (una lista vacía)."
   ]
  },
  {
   "cell_type": "markdown",
   "id": "75f39bfe",
   "metadata": {
    "slideshow": {
     "slide_type": "subslide"
    }
   },
   "source": [
    "### <span style=\"color:darkslateblue\">Otros ejemplos: Python</span>\n",
    "\n",
    "#### <span style=\"color:orangered\">Dot product</span>:  [`numpy.dot(a, b, out=None)`](https://numpy.org/doc/stable/reference/generated/numpy.dot.html)\n",
    "\n",
    "- Si `a` y `b` son vectores (1D), devuelve $\\vec{a} \\times \\vec{b}$\n",
    "- Si `a` y `b` son matrices (2D), devuelve  $A \\times B$\n",
    "- Si `a` o `b` es un escalar (0D), devuelve $a · b$\n",
    "- Si `a` es un tensor $n$-D y `b` es un vector (1D), devuelve:\n",
    "    $$\\begin{bmatrix} \\vec{A_1} \\cdot \\vec{b} & \\ldots & \\vec{A_n} \\cdot \\vec{b} \\end{bmatrix}$$\n",
    "- Si `a` es un tensor $n$-D y `b` es un tensor $m$-D ($m \\geq 2$), devuelve:\n",
    "    ```\n",
    "    dot(a, b)[i,j,k,m] = sum(a[i,j,:] * b[k,:,m])\n",
    "    ```"
   ]
  },
  {
   "cell_type": "markdown",
   "id": "7f1b8fb5",
   "metadata": {
    "slideshow": {
     "slide_type": "notes"
    }
   },
   "source": [
    "La bibliotecas estándares de Python proporcionan la funcion [`numpy.dot(a, b, out=None)`](https://numpy.org/doc/stable/reference/generated/numpy.dot.html) que hace lo siguiente:  \n",
    "\n",
    "- Si `a` y `b` son vectores (arrays uni-dimensionales), devuelve su producto vectorial (sin el conjugado complejo) \n",
    "- Si `a` y `b` son matrices (arrays bi-dimensionales), devuelve el producto matricial equivalente a `matmul(a,b)` o `a @ b`:  \n",
    "- Si  `a` o `b` es un escalar (valor 0-dimensional), es equivalente a  `numpy.multiply(a, b)` o `a * b`:  \n",
    "- Si `a` es un tensor (array $n$ -dimensional) y `b` es un vector (array uni-dimensional), devuelve las sumas-productos entre el último eje de `a` y `b`:  \n",
    "- Si `a` es un tensor (array $n$ -dimensional) y `b` es un tensor (array $m$ -dimensional), con $m \\geq 2$ , devuelve las sumas-productos entre el último eje de `a` y el penúltimo eje de `b`:  \n",
    " (sería complicado expresarlo de forma algebraica)\n",
    "\n",
    "Cuando uno se dedica a la Ciencia de Datos, debe saber expresarse en el lenguaje algebraico de las matemáticas y, además, en el lenguaje de programación (en este ejemplo, Python y su biblioteca `numpy`).  \n",
    "\n",
    "Si se quiere ver la equivalencia entre ambos registros de expresión, consultar [Latexify Python](https://github.com/google/latexify_py).  "
   ]
  },
  {
   "cell_type": "markdown",
   "id": "d7da0404",
   "metadata": {
    "slideshow": {
     "slide_type": "subslide"
    }
   },
   "source": [
    "### <span style=\"color:darkslateblue\">Otros ejemplos: Unity</span>\n",
    "\n",
    "En **Álgebra**:\n",
    "\n",
    "- [**Quaternions**](https://en.wikipedia.org/wiki/Quaternion)  ⟶ sistema numérico que amplía el de los números complejos, con aplicaciones a la mecánica 3D\n",
    "\n",
    "En **Programación** en C\\# con Unity 3D:\n",
    "\n",
    "- `Quaternions` para representar rotaciones\n",
    "- `Transform` para manipular posición, rotación y escala de un objeto 3D\n",
    "\n"
   ]
  },
  {
   "cell_type": "markdown",
   "id": "c865e048",
   "metadata": {
    "slideshow": {
     "slide_type": "notes"
    }
   },
   "source": [
    "En Unity 3D, un elemento algebraico muy usado para la programación en C\\# de juegos son los **quaternions**. Los quaternions proporcionan un sistema numérico que amplía el de los números complejos, con muchas aplicaciones a la mecánica en un espacio 3-dimensional.  \n",
    "\n",
    "Unity3D:\n",
    "- Emplea un elemento de la biblioteca estándar en C\\# llamado `Quaternion` para representar rotaciones\n",
    "- Manipula los objetos 3D a través de los `Transform`, que describen la posición, rotación y escala de un objeto 3D.  \n",
    "\n",
    "Si se quiere construir un juego 3D, quizá sea más conveniente aprender el lenguaje de Unity que el lenguaje algebraico de los quaternions."
   ]
  },
  {
   "cell_type": "markdown",
   "id": "9850a439",
   "metadata": {
    "slideshow": {
     "slide_type": "subslide"
    }
   },
   "source": [
    "### <span style=\"color:darkslateblue\">La importancia de la notación</span>\n",
    "\n",
    "¿Cuánta es la [importancia de la notación](https://twitter.com/RuskEating/status/1575221057006743552?s=20&t=4VLkh9kTFHh1nvPCSG2-Jw) en matemáticas/álgebra?\n",
    "\n",
    "- Consultar *Structure and Interpretation of Classical Mechanics* ([Sussman et al., 2001](https://en.wikipedia.org/wiki/Structure_and_Interpretation_of_Classical_Mechanics)) para ver cómo formular un problema de mecánica clásica usando un lenguaje computacional.  \n",
    "\n",
    "- Sobre notación matemática: ([Scheinerman, 2011](https://books.google.es/books/about/Mathematical_Notation.html?id=fJbMygAACAAJ))  "
   ]
  },
  {
   "cell_type": "markdown",
   "id": "f4a5025e",
   "metadata": {
    "slideshow": {
     "slide_type": "slide"
    }
   },
   "source": [
    "## <span style=\"color:slateblue\"><center>5. LENGUAJES DE PROGRAMACIÓN</center></span>"
   ]
  },
  {
   "cell_type": "markdown",
   "id": "bf4b2d29",
   "metadata": {
    "slideshow": {
     "slide_type": "subslide"
    }
   },
   "source": [
    "Sobre los **lenguajes (de programación)**: ([Park & Shin, 2019](https://doi.org/10.3390/electronics8111269)) \n",
    "\n",
    "<div class=\"alert alert-block alert-info\">\n",
    "El grado de mejora de los estudiantes en sus habilidades de pensamiento computacional varía en función del lenguaje de programación que aprenden.  \n",
    "</div>"
   ]
  },
  {
   "cell_type": "markdown",
   "id": "544eaffa",
   "metadata": {
    "slideshow": {
     "slide_type": "notes"
    }
   },
   "source": [
    "Una vez discutido el concepto de **algoritmo** y su expresión desde la perspectiva **algebraica** común a las matemáticas y a la informática, analizaremos con mayor profundidad la forma expresar la «solución a un problema» en un lenguaje de programación.\n",
    "\n",
    "Plantearemos ejemplos usando distintos **paradigmas de programación**: el imperativo, el orientado a objetos y el funcional.\n",
    "\n",
    "¿Por qué hacer este análisis? Porque la investigación ha obtenido resultados interesantes respecto a la hipótesis de que la mejora de las habilidades de pensamiento computacional varía en función del **lenguaje de programación** con que éstas se aprenden.\n",
    "\n",
    "Esto está en línea con la opinión del matemático y físico holandés Edsger W. Dijkstra, quien dijo que «todos estamos moldeados por las herramientas con las que nos entrenamos».  "
   ]
  },
  {
   "cell_type": "markdown",
   "id": "3e9a2122",
   "metadata": {
    "slideshow": {
     "slide_type": "subslide"
    }
   },
   "source": [
    "### <span style=\"color:darkslateblue\">Pensamiento computacional  en el RD 217/2022</span>\n",
    "\n",
    "<div class=\"alert alert-block alert-success\">\n",
    "    Relacionado con la resolución de problemas se encuentra el <b>pensamiento computacional</b>. Este incluye el análisis de datos, la organización lógica de los mismos, la <span style=\"color:orangered\"><b>búsqueda de soluciones en secuencias de pasos ordenados</b></span> y la obtención de soluciones con instrucciones que puedan ser ejecutadas por una <span style=\"color:orangered\"><b>herramienta tecnológica programable</b></span>, una persona o una combinación de ambas, lo cual amplía la capacidad de resolver problemas y promueve el uso eficiente de recursos digitales.\n",
    "</div>\n",
    "\n",
    "- El pensamiento computacional… <span style=\"color:orangered\">en el sentido algebraico</span>\n",
    "- La herramienta tecnológica programable… <span style=\"color:orangered\">un lenguaje imperativo de bloques</span>\n",
    "- El paradigma de programación… <span style=\"color:orangered\">imperativa, i.e. limitada para el pensamiento algebraico</span>"
   ]
  },
  {
   "cell_type": "markdown",
   "id": "eb081edd",
   "metadata": {
    "slideshow": {
     "slide_type": "notes"
    }
   },
   "source": [
    "El pensamiento computacional hemos visto que está clasificado dentro del **pensamiento algebraico**.\n",
    "\n",
    "Algunos lenguajes a veces están dotados de mecanismos para unas capacidades (e.g. control de flujo), pero adolecen de otros (e.g. programación funcional).\n",
    "\n",
    "Entonces, estas **herramientas tecnológicas programables** usadas para desplegar las habilidades de pensamiento computacional, ¿son las más adecuadas desde el **punto de vista algebraico**?\n",
    "\n",
    "La mayoría de enfoques del pensamiento computacional lo hacen partiendo de **lenguajes de bloques** que siguen el paradigma imperativo (nótese lo de «búsqueda de soluciones en secuencias de pasos ordenados»), cuya expresión es muchas veces confusa con una notación algebraica.\n",
    "\n",
    "Entonces, para entender los conceptos y prácticas de pensamiento computacional, ¿basta con el **sentido algebraico**? Parece una contradicción."
   ]
  },
  {
   "cell_type": "markdown",
   "id": "4bd76b23",
   "metadata": {
    "slideshow": {
     "slide_type": "subslide"
    }
   },
   "source": [
    "### <span style=\"color:darkslateblue\"><center>¿Dónde está el sentido algebraico?</center></span>\n",
    "\n",
    "<center>¿Cómo se expresa la solución a un problema en el lenguaje limitado de la programación imperativa, distinto al lenguaje algebraico?</center>\n",
    "\n",
    "### <center>Respuesta en (<a href=\"https://doi.org/10.1016/j.learninstruc.2022.101667\">Laurent et al., 2022</a>)</center>\n",
    "\n",
    "#### <center><span style=\"color:orangered\"><b>Transferencia de aprendizaje</b></span></center>"
   ]
  },
  {
   "cell_type": "markdown",
   "id": "99a7820c",
   "metadata": {
    "slideshow": {
     "slide_type": "notes"
    }
   },
   "source": [
    "Si las *herramientas informáticas* propuestas son limitadas en este sentido, ¿cómo se expresa la solución a un problema en un lenguaje distinto al algebraico, más limitado, como es el de la programación imperativa?\n",
    "\n",
    "Una respuesta es la proporcionada por (Laurent et al., 2022): la conversión de un algoritmo a una formalización matemática para resolver un problema dado debe fomentar la adquisición de la estructura profunda del concepto matemático. El cambio de la escritura matemática a la escritura del algoritmo, cumple la definición de **transferencia de aprendizaje** (más en concreto, transferencia **cercana**), dado que ambas situaciones se preocupan de un mismo concepto.\n",
    "\n",
    "No obstante, la conversión no es obvia para muchos estudiantes, pues muchos de ellos no son capaces de reconocer el mismo concepto representado en diferentes registros, el matemático y el informático.\n",
    "\n",
    "- Si se usa un paradigma de programación como el imperativo o el orientado a objetos (los únicos contemplados por el pensamiento computacional), la diferencia de registros es aún mayor.\n",
    "\n",
    "- Si se usa un paradigma de programación funcional, que tiene fundamentos algebraicos, el registro informático y el registro matemático se acercan un poco más. Pero, aún así, son distintos registros.  "
   ]
  },
  {
   "cell_type": "markdown",
   "id": "d2b5c7ce",
   "metadata": {
    "slideshow": {
     "slide_type": "subslide"
    }
   },
   "source": [
    "### <span style=\"color:darkslateblue\">Lenguaje algebraico y programación imperativa</span>\n",
    "\n",
    "#### Representaciones semióticas ([Duval, 2006](https://doi.org/10.1007/s10649-006-0400-z))\n",
    "\n",
    "- Variables en álgebra ([Bush & Karp, 2013](https://doi.org/10.1016/j.jmathb.2013.07.002))\n",
    "- Variables en programación \n",
    "- Variables no numéricas\n",
    "\n",
    "#### Quejas de ([Bråtig & Kilham, 2021](https://doi.org/10.1080/10986065.2020.1779012))\n",
    "\n",
    "No perder de vista el álgebra y su lenguaje simbólico\n",
    "\n",
    "#### Conrad Wolfram: [The Maths Fix](https://www.computerbasedmath.org/the-maths-fix/)\n"
   ]
  },
  {
   "cell_type": "markdown",
   "id": "8b15ebc9",
   "metadata": {
    "slideshow": {
     "slide_type": "notes"
    }
   },
   "source": [
    "El procesamiento matemático, según (Duval, 2006), siempre «implica sustituir una representación semiótica por otra». Hay que convertir el lenguaje natural a otro registro.\n",
    "\n",
    "Por ejemplo, representar una «variable» de un lenguaje de programación en notación algebraica requiere un conocimiento sobre a qué objeto se refiere la palabra «variable».\n",
    "\n",
    "El **rol de una variable** es diferente en los dos sistemas de representación:\n",
    "- en programación imperativa, controlar el proceso y almacenar datos;\n",
    "- en álgebra, expresar relaciones.\n",
    "\n",
    "Para los estudiantes, los distintos significados de una variable en álgebra ya es de por sí un reto (Bush & Karp, 2013). Así que añadir otro significado adicional relacionado con la programación informática es algo sobre lo que hay que ser muy cuidadoso.\n",
    "\n",
    "En los enfoques actuales guiados por el *pensamiento computacional*, la introducción temprana de variables **no numéricas** va más allá del álgebra que se estudia en las escuelas (y del sentido algebraico propuesto en la LOMLOE)\n",
    "  \n",
    "Por otro lado, (Bråtig & Kilham, 2021) argumentan que las descripciones modernas del álgebra han difuminado las diferencias entre la programación y el lenguaje algebraico. No quieren perder de vista el álgebra y su lenguaje simbólico desarrollado durante siglos tan solo porque ha surgido una nueva forma de modelar y simbolizar (Nueva forma que resulta muy útil)\n",
    "\n",
    "¿No les suena este argumento de Bratig & Kilman? A mi me suena a la polémica sobre el mantenimiento o no del latín.\n",
    "No sólo a mí, sino también a **Conrad Wolfram**, que lleva proponiendo desde hace tiempo en su famoso *The Maths Fix* un enfoque alternativo a las matemáticas tradicionales, más computacional (a la par que algebraica)."
   ]
  },
  {
   "cell_type": "markdown",
   "id": "eb74c0a9",
   "metadata": {
    "slideshow": {
     "slide_type": "slide"
    }
   },
   "source": [
    "## <span style=\"color:slateblue\"><center>6. ABSTRACCIÓN</center></span>  "
   ]
  },
  {
   "cell_type": "markdown",
   "id": "c69fd020",
   "metadata": {
    "slideshow": {
     "slide_type": "subslide"
    }
   },
   "source": [
    "Sobre la **abstracción**: *Donald Knuth* en [DrDobbs journal](http://www.drdobbs.com/an-interview-with-donald-knuth/184409858)  \n",
    "\n",
    "<div class=\"alert alert-block alert-info\">\n",
    "El perfil psicológico de un programador incluye, sobre todo, su habilidad para cambiar de nivel de abstracción, del bajo nivel al alto nivel.\n",
    "</div>"
   ]
  },
  {
   "cell_type": "markdown",
   "id": "46c68b7d",
   "metadata": {
    "slideshow": {
     "slide_type": "subslide"
    }
   },
   "source": [
    "## <span style=\"color:darkblue\">Abstracción</span>\n",
    "\n",
    "### En Matemáticas\n",
    "\n",
    "- Estructuras, patrones y propiedades\n",
    "- Generalización\n",
    "\n",
    "### En Informática ([Mirolo et al., 2021](https://doi.org/10.15388/infedu.2021.27))\n",
    "\n",
    "- Primaria: como punto de entrada (pensamiento computacional)\n",
    "- Secundaria y post-secundaria: para aprender a programar\n",
    "- Profesional: para modelado de problemas y sistemas complejos"
   ]
  },
  {
   "cell_type": "markdown",
   "id": "7d05b362",
   "metadata": {
    "slideshow": {
     "slide_type": "notes"
    }
   },
   "source": [
    "En **Matemáticas**, abstraer es extraer las estructuras, patrones y propiedades de un concepto, eliminando dependencias de objetos reales y **generalizándolos** en busca de aplicaciones más amplias de fenómenos equivalentes.\n",
    "\n",
    "En **Informática**, la abstracción puede contemplarse desde muy diversos ángulos :  \n",
    "\n",
    "- como punto de entrada para los estudiantes de primaria, según el pensamiento computacional\n",
    "- para ser consciente de los múltiples niveles de abstracción, necesarios para que los estudiantes de secundaria (y post-secundaria) aprendan a programar\n",
    "- como potencial para que informáticos e ingenieros de software aborden el modelado de problemas y sistemas complejos.\n"
   ]
  },
  {
   "cell_type": "markdown",
   "id": "1509891d",
   "metadata": {
    "slideshow": {
     "slide_type": "slide"
    }
   },
   "source": [
    "## <span style=\"color:darkblue\">En el pensamiento computacional</span>\n",
    "\n",
    "### ([Shute et al., 2017](https://doi.org//10.1016/j.edurev.2017.09.003))\n",
    "\n",
    "Identifica tres subcategorías:\n",
    "- La recolección y análisis de datos\n",
    "- El modelado o simulación\n",
    "- La identificación de patrones\n",
    "\n",
    "### ([Wing, 2006](https://www.cs.cmu.edu/afs/cs/Web/People/15110-s13/Wing06-ct.pdf)): Extracción  o abstracción empírica [Piaget]\n",
    "\n",
    "- «Decidir qué detalles resaltar y qué detalles ignorar»\n",
    "- ¿Qué le falta a esta definición?"
   ]
  },
  {
   "cell_type": "markdown",
   "id": "0feee3b0",
   "metadata": {
    "slideshow": {
     "slide_type": "notes"
    }
   },
   "source": [
    "La definición más completa de abstracción que propone el pensamiento computacional es posiblemente la de ([Shute et al., 2017](https://doi.org//10.1016/j.edurev.2017.09.003)), que identifica tres subcategorías... \n",
    "\n",
    "Consideramos, por tanto, que muchos de los elementos característicos del **pensamiento computacional** en la materia de matemáticas, son partes de la abstracción: la identificación de patrones, la generalizacipon, el modelado, etc.\n",
    "\n",
    "Sin embargo, las definiciones más comunes (Wing) hablan del proceso de abstracción simplemente como «decidir qué detalles resaltar y qué detalles ignorar». La definición de Wing revisita el concepto de **extracción** o de abstracción empírica.  \n",
    "\n",
    "La **abstracción empírica** de *Piaget* juega un papel fundamental en la construcción de conceptos cotidianos a partir de la percepción de las similitudes superficiales observadas entre objetos o hechos.\n",
    "\n",
    "Esta definición está en la base del concepto matemático de abstracción, y es el que ha primado en las definiciones de pensamiento computacional, pero le falta algo para ser valedero en informática."
   ]
  },
  {
   "cell_type": "markdown",
   "id": "8b779072",
   "metadata": {
    "slideshow": {
     "slide_type": "subslide"
    }
   },
   "source": [
    "## <span style=\"color:darkblue\">Modelo computacional</span>\n",
    "\n",
    "### ([Aho, 2012](https://doi.org/10.1145/1922681.1922682))\n",
    "\n",
    "### Modelos computacionales ([Denning, 2017](https://doi.org/10.1145/2998438))\n",
    "\n",
    "- Máquinas de Turing\n",
    "- Máquinas de reducción lógica o simbólica\n",
    "- Redes neuronales\n",
    "- Redes neuronales profundas"
   ]
  },
  {
   "cell_type": "markdown",
   "id": "133fba98",
   "metadata": {
    "slideshow": {
     "slide_type": "notes"
    }
   },
   "source": [
    "(Aho, 2012) explica que las **abstracciones en informática** deben responder a un **modelo computacional**.\n",
    "\n",
    "Algunos ejemplos de modelos computacionales que son necesarios para abstraer soluciones son (Denning, 2017): \n",
    "\n",
    "- Máquinas de Turing\n",
    "- Máquinas de reducción lógica o simbólica\n",
    "- Redes neuronales\n",
    "- Redes neuronales profundas\n",
    "\n",
    "Para que un modelo sirva para desempeñar un cierto trabajo hace falta abstracción, pero ésta no está completa si falta el modelo subyacente al que se somete dicha abstracción para que pueda convertirse en algo computable.\n",
    "\n",
    "Hay que saber cómo se comporta la máquina a la que le vamos a hablar."
   ]
  },
  {
   "cell_type": "markdown",
   "id": "24b35603",
   "metadata": {
    "slideshow": {
     "slide_type": "subslide"
    }
   },
   "source": [
    "#### Pensamiento computacional  en el RD 217/2022\n",
    "\n",
    "<div class=\"alert alert-block alert-success\">\n",
    "<i>Relacionado con la <b>resolución de problemas</b> se encuentra el pensamiento computacional. Este incluye el análisis de datos, la organización lógica de los mismos, la búsqueda de soluciones en <span style=\"color:orangered\"><b>secuencias de pasos ordenados</b></span> y la obtención de soluciones con instrucciones que puedan ser ejecutadas por una herramienta tecnológica programable, <span style=\"color:orangered\"><b>una persona</b></span> o una combinación de ambas, lo cual amplía la capacidad de resolver problemas y promueve el uso eficiente de recursos digitales.</i>\n",
    "</div>\n",
    "\n",
    "<div class=\"alert alert-block alert-warning\">\n",
    "    Llevar el pensamiento computacional a la <span style=\"color:orangered\"><b>vida diaria</b></span> supone relacionar los aspectos fundamentales de la informática con las necesidades del alumnado.\n",
    "</div>"
   ]
  },
  {
   "cell_type": "markdown",
   "id": "64f9f472",
   "metadata": {
    "slideshow": {
     "slide_type": "notes"
    }
   },
   "source": [
    "Por eso la referencia que se hace al concepto de pensamiento computacional en el curriculum de la LOMLOE no es muy acertada: al decir que el pensamiento computacional proporciona «soluciones con instrucciones que puedan ser ejecutadas por (…) **una persona** o una combinación de ambas» se está cometiendo una incorrección:\n",
    "\n",
    "- Supone que las personas tienen un modelo computacional subyacente.\n",
    "- Afortunadamente, esto no es así.\n",
    "\n",
    "Por otro lado, la sugerencia, en la misma mención, de una **cualquier secuencia de pasos** constituye un algoritmo es confusa. Es cierto que un algoritmo es una serie de pasos. Pero los pasos no son arbitrarios, sino que deben servir para **controlar el modelo computacional** subyacente.\n",
    "\n",
    "No es lo mismo controlar una máquina de **Turing** (su resultado se puede explicar y depurar) que una **red neuronal profunda** (no está tan claro que se pueda)\n",
    "\n",
    "Así que el pensamiento computacional no está del todo preparado para «**situaciones de la vida diaria**», como comentan muchas de sus definiciones (entre otras las de la LOMLOE). Porque a la «vida real» le falta el modelo computacional, afortunadamente."
   ]
  },
  {
   "cell_type": "markdown",
   "id": "b8cfbf67",
   "metadata": {
    "slideshow": {
     "slide_type": "slide"
    }
   },
   "source": [
    "## <span style=\"color:slateblue\"><center>RETO: Criba de Erastóstenes en Python</center></span>"
   ]
  },
  {
   "cell_type": "markdown",
   "id": "f5fd74b3",
   "metadata": {
    "slideshow": {
     "slide_type": "notes"
    }
   },
   "source": [
    "El reto propuesto es completar los ejemplos de **algoritmos** expresados en el lenguaje Python. \n",
    "Python permite tanto un estilo de programación **imperativa** como un estilo **funcional**, basado en el uso de [lambdas en Python](https://realpython.com/python-lambda/).\n",
    "\n",
    "Las **conversiones entre registros distintos** (del lenguaje natural al simbólico) son distintas si la conversión es hacia un lenguaje de programación o hacia una notación algebraica.\n",
    "\n",
    "También serán distintos en función de si el lenguaje de programación tiene un estilo imperativo **tradicional** o si permite la programación funcional, de corte más **algebraico**.\n",
    "\n",
    "- Las instrucciones para desplegar una copia del notebook están publicadas en `https://github.com/dodero/EduCaixa-HelloMath`"
   ]
  },
  {
   "cell_type": "markdown",
   "id": "58e75f26",
   "metadata": {
    "slideshow": {
     "slide_type": "subslide"
    }
   },
   "source": [
    "### <span style=\"color:darkblue\">Diferencias semióticas</span>\n",
    "\n",
    "- Operador de asignación vs relación de igualdad (`=`)\n",
    "- Paradigma funcional ~ algebraico\n",
    "- Máquina de Turing\n",
    "- Arquitectura de Von Neumann"
   ]
  },
  {
   "cell_type": "markdown",
   "id": "d6b92da8",
   "metadata": {
    "slideshow": {
     "slide_type": "notes"
    }
   },
   "source": [
    "Una pequeña diferencia entre los lenguajes de programación y el lenguaje algebraico es el del **operador de asignación** frente a la **relación de igualdad**. Muchos lenguajes, como Python, emplean el signo `=` para el operador de asignación. Pero en álgebra el mismo signo define una relación, no es un operador algebraico.\n",
    "\n",
    "Los ejemplos del reto anterior ilustran que los entornos informáticos tradicionales, basados en la programación imperativa, plantean un registro distinto, una **diferencia semiótica** planteada por reglas sintácticas diferentes de las del lenguaje natural y de la notación algebráica.\n",
    "\n",
    "No obstante, la programación **funcional** utiliza una notación más algebraica. De hecho, el **origen de la informática** está en el cálculo lambda y la programación funcional, con fundamento más algebraico.\n",
    "\n",
    "Lo que pasa es que cuando surgió el enfoque funcional, computacionalmente era costosísimo de llevar a cabo, y la programación evolucionó hacia enfoques imperativos, muy pegados a la **máquina de Turing**, que describe teóricamente lo que se implementó más tarde a través de la famosa **arquitectura de Von Neumann**. Hoy las cosas han cambiado y el aumento de potencia computacional ha hecho que el enfoque funcional tenga más aplicabilidad.\n",
    "\n",
    "Obsérvese la diferencia entre las versiones iterativa y funcional en términos de **rendimiento**."
   ]
  },
  {
   "cell_type": "markdown",
   "id": "77155774",
   "metadata": {
    "slideshow": {
     "slide_type": "slide"
    }
   },
   "source": [
    "## <span style=\"color:slateblue\"><center>7. TRABAJOS FUTUROS</center></span>"
   ]
  },
  {
   "cell_type": "markdown",
   "id": "63f29870",
   "metadata": {
    "slideshow": {
     "slide_type": "subslide"
    }
   },
   "source": [
    "### <span style=\"color:darkblue\">Otros aspectos fundamentales de la Informática</span>\n",
    "\n",
    "1. <span style=\"color:darkgrey\">Abstracción</span>\n",
    "2. <span style=\"color:orangered\"><b>Análisis y Descomposición</b></span>\n",
    "3. <span style=\"color:orangered\"><b>Identificación de Patrones</b></span>\n",
    "4. <span style=\"color:darkgrey\">Algoritmos</span>\n",
    "5. <span style=\"color:orangered\"><b>Organización de Datos</b></span>\n",
    "6. <span style=\"color:darkgrey\">Lenguajes de programación</span>\n",
    "7. <span style=\"color:orangered\"><b>Depuración de Errores</b></span>\n"
   ]
  },
  {
   "cell_type": "markdown",
   "id": "5ee835f5",
   "metadata": {
    "slideshow": {
     "slide_type": "notes"
    }
   },
   "source": [
    "Además de los temas tratados (algoritmos, lenguajes y abstracción), quedan otros temas por tratar, de los considerados en la caracterización de aspectos fundamentales de la informática para el pensamiento computacional, que recordemos que eran:"
   ]
  },
  {
   "cell_type": "markdown",
   "id": "c2c249e9",
   "metadata": {
    "slideshow": {
     "slide_type": "notes"
    }
   },
   "source": [
    "### Organización de datos\n",
    "\n",
    "La organización de datos e información tiene mucho que ver con la abstracción. Es lo que se llama en informática **abstracción de datos**. Hay muchos lenguajes y entornos de programación que permiten trabajar con listas y estructuras de datos. Pero muchos carecen de la posibilidad de hacer abstracción de datos.\n",
    "\n",
    "- Por ejemplo, Snap! define las listas como una estructura *de primera clase* para hacer programación funcional. Pero no proporciona mecanismos específicos para hacer abstracción de datos, como las clases de la programación orientada a objetos (OOP). En su lugar, Snap! utiliza lo que denomina **OOP con procedimientos**. En Scratch, Snap! y otros lenguajes como Javascript se usa **OOP basada en prototipos**.\n",
    "\n",
    "- Tampoco se implementan mecanismos para la ocultación de datos e información, que es la base de la abstracción de datos. Por ejemplo, Scratch usa **OOP con sprites**, método menos restrictivo que otros lenguajes OOP, pues se da total acceso a datos y métodos de otros objetos.  Sin mecanismos de ocultación, es complicado aplicar los principios más elementales de calidad del software.\n",
    "\n",
    "La abstracción de datos y la ocultación de la implementación son conceptos clave de la informática que el pensamiento computacional también necesita."
   ]
  },
  {
   "cell_type": "markdown",
   "id": "6304ec20",
   "metadata": {
    "slideshow": {
     "slide_type": "notes"
    }
   },
   "source": [
    "### Depuración de errores\n",
    "\n",
    "El pensamiento computacional más básico se basa en el control de flujo de la ejecución de los algoritmos, expresado a través de secuencias de instrucciones, que son controladas por otras condicionales y repetitivas (bucles). Aplicar un cierto *pensamiento lógico* para seguir el flujo de ejecución de un programa y así poder conocer el estado de sus variables para poder depurarlo es relativamente sencillo.\n",
    "\n",
    "No obstante, hay otras abstracciones de control de flujo que no son tan sencillas para su depuración. Se trata de las abstracciones que permiten definir el **paralelismo**, la ejecución **concurrente** de varios flujos de ejecución en un programa, la **sincronización** de la ejecución en ciertos puntos de control, o el tratamiento de **eventos** que suceden de forma asíncrona a la ejecución de un programa.\n",
    "\n",
    "Algunos entornos como Scratch permiten un cierto grado de paralelismo o concurrencia y sincronización, a través de los eventos y el *broadcast*.\n",
    "\n",
    "Pero, ¿qué *pensamiento lógico* hay que aplicar para depurar un programa cuando las decisiones no se toman con condicionales? Por ejemplo, al procesar un flujo o *stream* de datos que no sabemos si y cuándo va a llegar para ser procesado. En estos casos, la lógica de **continuación** como mecanismo elemental usado en programación asíncrona y retrollamadas es bastante más difícil de depurar.\n",
    "\n",
    "Todos estos **conceptos** de la informática tienen grandes implicaciones en la **depuración** como habilidad **práctica** básica del pensamiento computacional. Si dichos conceptos informáticos se soslayan, será muy complicado desarrollar las habilidades del pensamiento computacional."
   ]
  },
  {
   "cell_type": "markdown",
   "id": "a4e5c498",
   "metadata": {
    "slideshow": {
     "slide_type": "notes"
    }
   },
   "source": [
    "### Análisis y descomposición\n",
    "\n",
    "Aunque, en teoría, los lenguajes de bloques ofrecen soporte para la descomposición, no fomentan mucho su uso. Sus usuarios finales no descomponen sus programas, a pesar de que la descomposición es crucial para crear programas más grandes ([Ritschel et al., 2022](https://ieeexplore.ieee.org/document/9793760))\n",
    "\n",
    "La descomposición de un problema para poder comprenderlo es parte del **análisis**, de su comprensión o *understanding*. Los lenguajes de bloques fomentan un enfoque constructivo, de **síntesis**, para dar forma (*shaping*) a una solución.\n",
    "\n",
    "Tan solo uno de los dos enfoques no basta para aprovechar todas las ventajas de la abstracción y la descomposición de un problema. La combinación de ambos enfoques es lo que constituye la informática: *understanding* + *shaping* ([Rosenbloom, 2015](https://mitpress.mit.edu/9780262528283/on-computing/))."
   ]
  },
  {
   "cell_type": "markdown",
   "id": "a1f5469c",
   "metadata": {
    "slideshow": {
     "slide_type": "notes"
    }
   },
   "source": [
    "### Identificación de patrones\n",
    "\n",
    "<div class=\"alert alert-block alert-info\">\n",
    "Ahora mismo diría que las matemáticas son el arte de encontrar patrones. Uso la palabra \"arte\" con toda la intención, porque creo que las matemáticas son una de las cosas más creativas que existen — Eduardo Sáenz de Cabezón, <a href=\"https://www.bbc.com/mundo/noticias-62883521\">BBC News</a>\n",
    "</div>\n",
    "\n",
    "La versión moderna de «el arte de encontrar patrones» también se le ha venido a llamar «Ciencia de Datos». Las habilidades necesarias para la identificación de patrones son, fundamentalmente, matemáticas y algebraicas. Son habilidades de comprensión o *understanding*. Sin embargo, esta habilidad puede quedar incompleta sin el *shaping* de la «Ingeniería de datos» que permite dar forma a las soluciones resultantes y expresarlas usando la notación de un lenguaje de programación informático, ya sea de índole más o menos algebraica, como hemos visto en esta ponencia."
   ]
  },
  {
   "cell_type": "markdown",
   "id": "0bf37d6b",
   "metadata": {
    "slideshow": {
     "slide_type": "slide"
    }
   },
   "source": [
    "## <span style=\"color:slateblue\"><center>8. Conclusiones</center></span>\n",
    "\n",
    "### <span style=\"color:darkblue\"><center>Conciliar Matemáticas e Informática</center></span>\n",
    "\n",
    "<center>...a través del pensamiento computacional</center>\n",
    "<center>...a través del pensamiento algebraico</center>"
   ]
  }
 ],
 "metadata": {
  "celltoolbar": "Slideshow",
  "kernelspec": {
   "display_name": "Python 3 (ipykernel)",
   "language": "python",
   "name": "python3"
  },
  "language_info": {
   "codemirror_mode": {
    "name": "ipython",
    "version": 3
   },
   "file_extension": ".py",
   "mimetype": "text/x-python",
   "name": "python",
   "nbconvert_exporter": "python",
   "pygments_lexer": "ipython3",
   "version": "3.9.12"
  }
 },
 "nbformat": 4,
 "nbformat_minor": 5
}
