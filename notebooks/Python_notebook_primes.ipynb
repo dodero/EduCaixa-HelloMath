{
 "cells": [
  {
   "cell_type": "markdown",
   "metadata": {
    "slideshow": {
     "slide_type": "slide"
    }
   },
   "source": [
    "# Cálculo de números primos\n",
    "\n",
    "¿Podemos representar todos los números primos en una simple expresión algebraica?\n",
    "Es un resultado conocido que no existe una expresión polinómica que genere todos los números primos.\n",
    "Conocemos el teorema de Dirichlet, que indica que:\n",
    "\n",
    "> Sea $a, d \\in \\mathbb{N}$ tal que el máximo común divisor $mcd(a,d)=1$; entonces la progresión aritmética $a_{n} = a + n \\cdot d$ contiene infinitos números primos.\n",
    "\n",
    "También se conocen algunos polinomios que generan algunos números primos. Por ejemplo:\n",
    "\n",
    "- El polinomio de Euler $F(n) = n^2 -n + 41$ que genera primos para $n=1,2,\\ldots,40$ y para $n=41$ se tiene que $F(41)=41^2$.\n",
    "\n",
    "- El polinomio de Legendre $F(n) = n^2 + n + 17$ que genera primos para $n=1,\\ldots,15$ y para $n=16$ se tiene que $F(16)=17^2$.\n",
    "\n",
    "- El polinomio Brox $F(n) = 6n^2 - 342n + 4903$ que genera primos para $n=0,2,\\ldots,57$ pero para $n=58$ se tiene que $F(58)=59·89$.\n",
    "\n",
    "Sin embargo, podemos acudir a la computación para explorar estructuras matemáticas y examinar conjeturas como «construir una fórmula algebraica simple que genere todos los números primos»."
   ]
  },
  {
   "cell_type": "markdown",
   "metadata": {
    "slideshow": {
     "slide_type": "notes"
    }
   },
   "source": [
    "Para explorar dicha conjetura, utilizaremos a los mecanismos que nos proporciona el **pensamiento computacional**.\n",
    "Empezaremos escribiendo un algoritmo que nos diga si un número dado es o no primo. Para ello utilizaremos el lenguaje Python:"
   ]
  },
  {
   "cell_type": "code",
   "execution_count": 105,
   "metadata": {},
   "outputs": [],
   "source": [
    "def is_prime(n):\n",
    "  for i in range(2,n):\n",
    "    if (n%i) == 0:\n",
    "      return False\n",
    "  return True"
   ]
  },
  {
   "cell_type": "code",
   "execution_count": 106,
   "metadata": {},
   "outputs": [
    {
     "data": {
      "text/plain": [
       "False"
      ]
     },
     "execution_count": 106,
     "metadata": {},
     "output_type": "execute_result"
    }
   ],
   "source": [
    "is_prime(40)"
   ]
  },
  {
   "cell_type": "code",
   "execution_count": 107,
   "metadata": {},
   "outputs": [
    {
     "data": {
      "text/plain": [
       "True"
      ]
     },
     "execution_count": 107,
     "metadata": {},
     "output_type": "execute_result"
    }
   ],
   "source": [
    "is_prime(41)"
   ]
  },
  {
   "cell_type": "markdown",
   "metadata": {
    "slideshow": {
     "slide_type": "subslide"
    }
   },
   "source": [
    "## Criba de Eratóstenes\n",
    "\n",
    "El algoritmo más conocido para generar todos los números primos menores que uno dado es la **criba de Eratóstenes**. Las siguientes implementaciones en Python sirven para calcular todos los números primos mayores que 2 y menores que uno dado $n$ aplicando el **algoritmo** de la criba de Eratóstenes (En el cálculo obviaremos los valores 0 y 1)."
   ]
  },
  {
   "cell_type": "markdown",
   "metadata": {},
   "source": [
    "### Versión imperativa tradicional\n",
    "\n",
    "Aplicando los elementos más básicos del pensamiento computacional (como las sentencias repetitivas y las condicionales), podemos escribir una implementación usando **programación imperativa** del algoritmo."
   ]
  },
  {
   "cell_type": "code",
   "execution_count": 108,
   "metadata": {},
   "outputs": [],
   "source": [
    "import math\n",
    "\n",
    "def eratosthenes_sieve_v1(last_to_check):\n",
    "    # Array de booleans para marcar los primos menores que num\n",
    "    prime = [True] * (last_to_check + 1)\n",
    "    for p in range(2, math.floor(math.sqrt(last_to_check)) + 1):\n",
    "        # Si prime[p] no cambia, entonces es primo\n",
    "        if prime[p]:\n",
    "            # Actualizar todos los múltiplos de p\n",
    "            for multiple in range(p ** 2, last_to_check+1, p):\n",
    "                prime[multiple] = False\n",
    "    # Devolver solo los primos\n",
    "    prime_list = []  \n",
    "    for p in range(2, last_to_check+1):\n",
    "        if prime[p]:\n",
    "            prime_list.append(p)\n",
    "    return prime_list"
   ]
  },
  {
   "cell_type": "code",
   "execution_count": 109,
   "metadata": {},
   "outputs": [
    {
     "data": {
      "text/plain": [
       "[2, 3, 5, 7, 11, 13, 17, 19, 23, 29, 31, 37]"
      ]
     },
     "execution_count": 109,
     "metadata": {},
     "output_type": "execute_result"
    }
   ],
   "source": [
    "eratosthenes_sieve_v1(40)"
   ]
  },
  {
   "cell_type": "markdown",
   "metadata": {},
   "source": [
    "A la hora de transcribir el algoritmo usando un lenguaje de programación, hemos aplicado algunas reglas habituales para la implementación de código. Algunas no son obligatorias, sino cuestión de estilo y claridad en el código. Otras son impuestas por la gramática del lenguaje.\n",
    "\n",
    "- Dar a las variables un nombre significativo: la variable $n$ que define el número máximo a comprobar toma la forma del parámetro o argumento `last_to_check`, cuyo nombre tiene mayor significado sobre su finalidad. Nótese que la variable algebraica $n$ es utilizada más bien como *placeholder* (no tanto como *variable* o como valor *desconocido*). Parece que lo que mejor se adecúa para expresar el *placeholder* $n$ en este caso, usando un lenguaje de programación, es un parámetro o argumento de un procedimiento o función.\n",
    "\n",
    "- La relación algebraica de igualdad (`=`), en el caso de este lenguaje de programación, se expresa con el símbolo `==`. Esto es habitual en muchos lenguajes textuales de programación, para diferenciar dicha relación del operador de asignación `=`. Una pequeña diferencia entre los lenguajes de programación y el lenguaje algebraico es el del operador de asignación frente a la relación de igualdad. Muchos lenguajes, como Python, emplean el signo `=` para el operador de asignación. Pero en álgebra ese mismo símbolo define una relación, no es un operador algebraico.\n",
    "\n",
    "- El algoritmo lleva la cuenta de los números que va detectando como que no son primos con un array. Al principio, suponemos que todos lo son (todos los elementos del array estarán marcados como `True`) y los iremos anulando conforme el algoritmo avance. La inicialización del array `prime` (donde el algoritmo va marcando aquellos números que resultan no ser primos) puede hacerse de muy diversas formas.\n",
    "\n",
    "    1. La implementación propuesta es muy del estilo de Python (*pythonic*, suele decirse). Emplea el operador `*` sobre una lista definida con un solo valor (el que se va a usar para inicializarla, es decir, `True`):\n",
    "\n",
    "    ```\n",
    "    prime = [True] * (last_to_check + 1)\n",
    "    ```\n",
    "\n",
    "    2. Pero la inicialización del array `prime` podríamos haberla hecho de otras maneras. La manera más simple que proponen los mecanismos más básicos del pensamiento computacional sería:\n",
    "  \n",
    "    ```\n",
    "    prime = []\n",
    "    for i in range(last_to_check + 1):\n",
    "            prime.append(True)\n",
    "    ```\n",
    "\n",
    "    3. Una tercera manera de hacerla es usando una [*comprehension*](https://docs.python.org/3/tutorial/datastructures.html#list-comprehensions) de Python. Una *comprehension* es una manera muy concisa que tiene Python para crear listas. Su uso más habitual es crear una lista nueva donde cada elemento es el resultado de aplicar unas ciertas operaciones a cada miembro de otra lista o secuencia iterable, o también crear una subsecuencia de dichos elementos que satisfacen una cierta condición. Por ejemplo, la inicialización anterior con una *comprehension* quedaría:\n",
    "\n",
    "    ```\n",
    "    prime = [True for i in range(last_to_check+1)]\n",
    "    ```"
   ]
  },
  {
   "cell_type": "markdown",
   "metadata": {},
   "source": [
    "Como primera **conclusión**, este ejemplo ilustra que los entornos informáticos tradicionales, basados en la programación imperativa, plantean un _registro_ distinto, unas reglas diferentes de las del lenguaje natural y de las de la notación algebraica clásica. Además, dentro de un mismo lenguaje de programación, hay distintos estilos con los que expresar un mismo algoritmo (o parte de él). A continuación vamos a ver algunos de estos estilos."
   ]
  },
  {
   "cell_type": "markdown",
   "metadata": {},
   "source": [
    "### Versión más _pythonic_"
   ]
  },
  {
   "cell_type": "markdown",
   "metadata": {},
   "source": [
    "Hay muchas otras maneras de escribir el algoritmo de la Criba de Eratóstenes. Por ejemplo, podemos usar *comprehensions*, que es un mecanismo muy *pythónico* del lenguaje, inspirado en la **programación funcional**."
   ]
  },
  {
   "cell_type": "markdown",
   "metadata": {},
   "source": [
    "Veamos más ejemplos de *comprehension*. Por ejemplo, para calcular todos los números impares entre 3 y 40 podemos usar la siguiente *comprehension*:"
   ]
  },
  {
   "cell_type": "code",
   "execution_count": 110,
   "metadata": {},
   "outputs": [
    {
     "name": "stdout",
     "output_type": "stream",
     "text": [
      "[3, 5, 7, 9, 11, 13, 15, 17, 19, 21, 23, 25, 27, 29, 31, 33, 35, 37, 39]\n"
     ]
    }
   ],
   "source": [
    "print(list([num for num in range(3, 40, 2) if num <= 40 ]))"
   ]
  },
  {
   "cell_type": "markdown",
   "metadata": {},
   "source": [
    "Si filtramos para quedarnos solo con los que son primos podemos hacerlo así:"
   ]
  },
  {
   "cell_type": "code",
   "execution_count": 111,
   "metadata": {},
   "outputs": [
    {
     "name": "stdout",
     "output_type": "stream",
     "text": [
      "[3, 5, 7, 11, 13, 17, 19, 23, 29, 31, 37]\n"
     ]
    }
   ],
   "source": [
    "print(list([num for num in range(3, 40, 2) if is_prime(num) ]))"
   ]
  },
  {
   "cell_type": "markdown",
   "metadata": {},
   "source": [
    "La siguiente versión del algoritmo usa una *comprehension* para la incialización del array, y una *comprehension* adicional para devolver la colección de números que están en el rango a comprobar y, además, no han sido invalidados como no primos. "
   ]
  },
  {
   "cell_type": "code",
   "execution_count": 131,
   "metadata": {},
   "outputs": [],
   "source": [
    "def eratosthenes_sieve_v2(last_to_check):\n",
    "    # Array de booleans para marcar los primos menores que num\n",
    "    prime = [True for i in range(last_to_check+1)]\n",
    "    for p in range(2, math.floor(math.sqrt(last_to_check)) + 1):\n",
    "        # Si prime[p] no cambia, entonces es primo\n",
    "        if prime[p]:\n",
    "            # Actualizar todos los múltiplos de p\n",
    "            for multiple in range(p ** 2, last_to_check+1, p):\n",
    "                prime[multiple] = False\n",
    "    # Devolver solo los primos\n",
    "    # return ( [p for p in range(3, last_to_check+1) if prime[p]] )\n",
    "    return [i for i, mark in enumerate(prime) if mark and i>=2]"
   ]
  },
  {
   "cell_type": "code",
   "execution_count": 132,
   "metadata": {},
   "outputs": [
    {
     "data": {
      "text/plain": [
       "[2, 3, 5, 7, 11, 13, 17, 19, 23, 29, 31, 37]"
      ]
     },
     "execution_count": 132,
     "metadata": {},
     "output_type": "execute_result"
    }
   ],
   "source": [
    "eratosthenes_sieve_v2(40)"
   ]
  },
  {
   "cell_type": "markdown",
   "metadata": {},
   "source": [
    "Usando esta *comprehension*, el algoritmo de la Criba de Eratóstenes queda más compacto. Nótese que hemos eliminado la sentencia repetitiva `for` del final, quedándonos una implementación un poco más «algebraica»."
   ]
  },
  {
   "cell_type": "markdown",
   "metadata": {},
   "source": [
    "### Versión funcional y más pythonic"
   ]
  },
  {
   "cell_type": "markdown",
   "metadata": {},
   "source": [
    "La primera versión era imperativa, empleando los mecanismos básicos que propone el pensamiento computacional (sentencias repetitivas y condicionales), con tan solo alguna concesión al *estilo* del lenguaje Python (la inicialización de la lista. La segunda versión usa más elementos funcionales: un par de comprehensions, una para inicializar el array de booleanos y otra para devolver solo los que se han mantenido marcados como primos tras la criba.\n",
    "\n",
    "Para elaborar una versión siguiendo aún más el estilo de la **programación funcional** del algoritmo de criba, vamos a necesitar dos procedimientos auxiliares:\n",
    "\n",
    "- Un primer procedimiento que calcula la diferencia entre dos listas: le llamaremos `diff` \n",
    "- Un segundo procedimiento que aplana los valores de una lista de listas: le llamaremos `flat_map`\n",
    "\n",
    "Para poder llegar hasta aquí, habría que aplicar un método de descomposición en partes, fomentado por el pensamiento computacional. ¿Por qué necesitamos esos dos procedimientos? La decisión es cuestión de diseño, un paso adicional a la simple codificación de soluciones usando un lenguaje de programación."
   ]
  },
  {
   "cell_type": "markdown",
   "metadata": {},
   "source": [
    "#### Cálculo de la diferencia entre dos listas"
   ]
  },
  {
   "cell_type": "markdown",
   "metadata": {},
   "source": [
    "Para el cálculo de la diferencia entre dos listas, el _registro_ del lenguaje de programación Python, utilizando sus elementos de programación funcional, va a exigir escribir algo más elaborado que si hubiéramos utilizado una simple expresión algebraica.\n",
    "\n",
    "Por ejemplo, para el cálculo de la diferencia entre dos conjuntos A y B de elementos habríamos escrito $A - B$ o, si quisiéramos la diferencia simétrica, $A \\setminus B$.\n",
    "\n",
    "De momento, obviaremos la distinción entre un conjunto y una lista, pues en álgebra los operadores anteriores solo tienen sentido entre conjuntos, en el sentido matemático del término. Para que pudieran definirse operadores análogos entre listas, haría falta disponer de un **tipo algebraico** «Lista», que de momento no es el caso."
   ]
  },
  {
   "cell_type": "markdown",
   "metadata": {},
   "source": [
    "Vamos a usar el _registro_ de la programación funcional en Python, a partir de otro mecanismo muy *funcional* del lenguaje: las **expresiones lambda**. Las expresiones lambda son elementos que incorporan muchos lenguajes de programación y están inspiradas en el [*λ-calculus*](https://es.wikipedia.org/wiki/C%C3%A1lculo_lambda) de Alonzo Church, con un fundamento algebraico más evidente que el de otros tipos de lenguajes de programación.\n",
    "\n",
    "Una expresión lambda es una función anónima, que puede emplearse como cualquier otro valor de un lenguaje de programación. Por ejemplo, podemos guardar en una variable un valor de tipo *lambda*, como si se tratara de cualquier otro tipo de datos."
   ]
  },
  {
   "cell_type": "markdown",
   "metadata": {},
   "source": [
    "Por ejemplo, si tenemos dos listas `l1` y `l2` definidas a través de *comprehensions*, podemos definir una lambda y asignarla como valor a la variable `diff`:"
   ]
  },
  {
   "cell_type": "code",
   "execution_count": 114,
   "metadata": {},
   "outputs": [
    {
     "data": {
      "text/plain": [
       "[3, 5, 7, 11, 13, 17, 19, 23, 29, 31, 37]"
      ]
     },
     "execution_count": 114,
     "metadata": {},
     "output_type": "execute_result"
    }
   ],
   "source": [
    "# Lista de números pares menores o iguales que 40:\n",
    "l1 = [num for num in range(3, 40, 2) if num <= 40 ]\n",
    "# Lista de números cualesquiera previamente elegidos:\n",
    "l2 = [9, 15, 21, 27, 33, 39, 25, 35]\n",
    "\n",
    "diff = lambda l1,l2: [x for x in l1 if x not in l2]\n",
    "\n",
    "diff(l1,l2)"
   ]
  },
  {
   "cell_type": "markdown",
   "metadata": {},
   "source": [
    "Nótese que `diff` no es una función. Es una variable que almacena como valor un dato de tipo función (la función anónima lambda). También podríamos habernos ahorrado dicha variable, escribiendo simplemente esto:"
   ]
  },
  {
   "cell_type": "code",
   "execution_count": 115,
   "metadata": {},
   "outputs": [
    {
     "data": {
      "text/plain": [
       "[3, 5, 7, 11, 13, 17, 19, 23, 29, 31, 37]"
      ]
     },
     "execution_count": 115,
     "metadata": {},
     "output_type": "execute_result"
    }
   ],
   "source": [
    "(lambda l1,l2: [x for x in l1 if x not in l2])(l1, l2)"
   ]
  },
  {
   "cell_type": "markdown",
   "metadata": {},
   "source": [
    "#### Aplanado de una lista de listas"
   ]
  },
  {
   "cell_type": "markdown",
   "metadata": {},
   "source": [
    "Antes de poder escribir la versión más funcional del alfgoritmo de criba, necesitaremos una forma de *aplanar* una lista de listas. Es decir, crear una nueva lista que devuelva todos los elementos contenidos en las sublistas de una lista inicial.\n",
    "\n",
    "Por ejemplo, si tenemos una *lista de listas* que contiene valores como `[\"Ana;Barbara\", \"Carlos;Domingo\"]`, queremos aplanarla y devolver una lista simple que contenga `[\"Ana\", \"Barbara\", \"Carlos\", \"Domingo\"]`.\n",
    "\n",
    "Acudiremos de nuevo a la programación funcional. Definiremos una función `flat_map` que recibe una lista con elementos de tipo `A` y una función `f` de tipo `A -> [B]` y aplica la función `f` a cada uno de los elementos de la lista inicial y concatena todos los resultados.\n",
    "\n",
    "El **tipo algebraico** de `flat_map` es:\n",
    "\n",
    "`flat_map :: (t -> [a]) -> [t] -> [a]`\n",
    "\n",
    "Nótese que esa función `f` que actúe como parámetro de `flat_map` puede ser una lambda. "
   ]
  },
  {
   "cell_type": "code",
   "execution_count": 116,
   "metadata": {},
   "outputs": [
    {
     "ename": "SyntaxError",
     "evalue": "invalid syntax (2107285678.py, line 1)",
     "output_type": "error",
     "traceback": [
      "\u001b[0;36m  Input \u001b[0;32mIn [116]\u001b[0;36m\u001b[0m\n\u001b[0;31m    La función `flat_map` la definiremos con una lambda:\u001b[0m\n\u001b[0m       ^\u001b[0m\n\u001b[0;31mSyntaxError\u001b[0m\u001b[0;31m:\u001b[0m invalid syntax\n"
     ]
    }
   ],
   "source": [
    "La función `flat_map` la definiremos con una lambda:"
   ]
  },
  {
   "cell_type": "code",
   "execution_count": null,
   "metadata": {},
   "outputs": [],
   "source": [
    "flat_map = lambda f,xs: [y for ys in xs for y in f(ys)]"
   ]
  },
  {
   "cell_type": "markdown",
   "metadata": {},
   "source": [
    "El siguiente ejemplo de uso de `flat_map` aplana una lista de cadenas de caracteres, buscando en cada cadena el separador que debe dividir a los elementos de la lista finalmente devuelta:"
   ]
  },
  {
   "cell_type": "code",
   "execution_count": null,
   "metadata": {},
   "outputs": [],
   "source": [
    "s = lambda x: x.split(\";\")\n",
    "flat_map = lambda f,xs: [y for ys in xs for y in f(ys)]\n",
    "flat_map(s, [\"Ana;Barbara\", \"Carlos;Domingo\"])"
   ]
  },
  {
   "cell_type": "markdown",
   "metadata": {},
   "source": [
    "Con la función `flat_map` ya implementada, el aplanado de una lista de listas es sencillo: aplicamos `flat_map(f,xs)` sobre la lista `xs` simplemente haciendo que `f` sea la función identidad (es decir, una función que deja a cada elemento individual igual que estaba):"
   ]
  },
  {
   "cell_type": "code",
   "execution_count": null,
   "metadata": {},
   "outputs": [],
   "source": [
    "my_list_of_lists = [ [3, 5, 7], [11, 13, 17], [19, 23], [29, 31, 37] ]\n",
    "identity = lambda x: x\n",
    "flat_map(identity, my_list_of_lists)"
   ]
  },
  {
   "cell_type": "markdown",
   "metadata": {},
   "source": [
    "#### Versión funcional de la criba\n",
    "\n",
    "Una vez implementadas `diff` y `flat_map` (como lambdas), el algoritmo de la criba de Eratóstenes en su versión más «pythónica» que usa el estilo de la programación funcional queda así implementado:"
   ]
  },
  {
   "cell_type": "code",
   "execution_count": null,
   "metadata": {},
   "outputs": [],
   "source": [
    "import math\n",
    "\n",
    "flat_map = lambda f, xs: [y for ys in xs for y in f(ys)]\n",
    "diff = lambda l1,l2: [x for x in l1 if x not in l2]\n",
    "\n",
    "def eratosthenes_sieve_v3(last_to_check):\n",
    "    all_to_check = [num for num in range(3, last_to_check, 2) if num <= last_to_check ]\n",
    "    odds = [num for num in range(3, last_to_check, 2) if num <= int(math.sqrt(last_to_check)) ]\n",
    "    composites = flat_map( lambda n: [num for num in range(n*n, last_to_check, 2*n) if num <= last_to_check ], odds )\n",
    "    return diff( all_to_check, composites )"
   ]
  },
  {
   "cell_type": "code",
   "execution_count": null,
   "metadata": {},
   "outputs": [],
   "source": [
    "print(eratosthenes_sieve_v3(40))"
   ]
  },
  {
   "cell_type": "markdown",
   "metadata": {},
   "source": [
    "## Análisis"
   ]
  },
  {
   "cell_type": "markdown",
   "metadata": {},
   "source": [
    "¿Qué diferencia hay entre las distintas versiones que hemos visto del algoritmo de la criba de Eratóstenes?\n",
    "\n",
    "En primer lugar, que los entornos informáticos plantean un _registro_ distinto, una **diferencia semiótica** planteada por una notación diferente del lenguaje natural, y diferente también de la notación algebraica clásica. Una ventaja de las notaciones más inspiradas en el pensamiento computacional es que pueden ejecutarse, comprobarse y depurarse a través del ordenador. Muchas notaciones de álgebra computacional cumplen también con este cometido, aunque los lenguajes de programación de propósito general (como Python) son de uso más extendido.\n",
    "\n",
    "Además, el _registro_ de la programación informática no es único, sino que depende del lenguaje de programación y, en definitiva, del **paradigma de programación** seguido. Habitualmente, el pensamiento computacional sigue el paradigma de la programación imperativa, por ser el más directo y sencillo. Pero hay otros paradigmas con estilo  más «constructivo» (por ejemplo, el de la orientación a objetos) o incluso más «algebraico» (como el de la programación funcional). Las diferencias entre estos estilos son, en primer lugar, de **expresividad** de la algoritmia invlucrada. El algoritmo de la criba de Eratóstenes es único. Podemos pensar que, de forma **abstracta**, no hay diferencias entre la versión primera y la versión última del algoritmo.\n",
    "\n",
    "Pero si pensamos en los detalles, en la implementación concreta del algoritmo, sí que hay diferencias. Una diferencia fundamental, sobre la que no hemos tratado, es el **rendimiento**.\n",
    "\n",
    "¿Cuál de las tres versiones tarda más, la versión imperativa (v1), la versión pythónica (v2), o la versión más funcional (v3)?\n",
    "\n",
    "Calculemos el tiempo que tardan las distintas implementaciones de la criba, aplicada sobre un valor suficientemente grande."
   ]
  },
  {
   "cell_type": "code",
   "execution_count": 126,
   "metadata": {},
   "outputs": [
    {
     "name": "stdout",
     "output_type": "stream",
     "text": [
      "[2, 3, 5, 7, 11, 13, 17, 19, 23, 29, 31, 37, 41, 43, 47, 53, 59, 61, 67, 71, 73, 79, 83, 89, 97, 101, 103, 107, 109, 113, 127, 131, 137, 139, 149, 151, 157, 163, 167, 173, 179, 181, 191, 193, 197, 199, 211, 223, 227, 229, 233, 239, 241, 251, 257, 263, 269, 271, 277, 281, 283, 293, 307, 311, 313, 317, 331, 337, 347, 349, 353, 359, 367, 373, 379, 383, 389, 397, 401, 409, 419, 421, 431, 433, 439, 443, 449, 457, 461, 463, 467, 479, 487, 491, 499, 503, 509, 521, 523, 541, 547, 557, 563, 569, 571, 577, 587, 593, 599, 601, 607, 613, 617, 619, 631, 641, 643, 647, 653, 659, 661, 673, 677, 683, 691, 701, 709, 719, 727, 733, 739, 743, 751, 757, 761, 769, 773, 787, 797, 809, 811, 821, 823, 827, 829, 839, 853, 857, 859, 863, 877, 881, 883, 887, 907, 911, 919, 929, 937, 941, 947, 953, 967, 971, 977, 983, 991, 997]\n",
      "CPU times: user 594 µs, sys: 128 µs, total: 722 µs\n",
      "Wall time: 799 µs\n"
     ]
    }
   ],
   "source": [
    "%%time\n",
    "print(eratosthenes_sieve_v1(1000))"
   ]
  },
  {
   "cell_type": "code",
   "execution_count": 127,
   "metadata": {},
   "outputs": [
    {
     "name": "stdout",
     "output_type": "stream",
     "text": [
      "[2, 3, 5, 7, 11, 13, 17, 19, 23, 29, 31, 37, 41, 43, 47, 53, 59, 61, 67, 71, 73, 79, 83, 89, 97, 101, 103, 107, 109, 113, 127, 131, 137, 139, 149, 151, 157, 163, 167, 173, 179, 181, 191, 193, 197, 199, 211, 223, 227, 229, 233, 239, 241, 251, 257, 263, 269, 271, 277, 281, 283, 293, 307, 311, 313, 317, 331, 337, 347, 349, 353, 359, 367, 373, 379, 383, 389, 397, 401, 409, 419, 421, 431, 433, 439, 443, 449, 457, 461, 463, 467, 479, 487, 491, 499, 503, 509, 521, 523, 541, 547, 557, 563, 569, 571, 577, 587, 593, 599, 601, 607, 613, 617, 619, 631, 641, 643, 647, 653, 659, 661, 673, 677, 683, 691, 701, 709, 719, 727, 733, 739, 743, 751, 757, 761, 769, 773, 787, 797, 809, 811, 821, 823, 827, 829, 839, 853, 857, 859, 863, 877, 881, 883, 887, 907, 911, 919, 929, 937, 941, 947, 953, 967, 971, 977, 983, 991, 997]\n",
      "CPU times: user 516 µs, sys: 66 µs, total: 582 µs\n",
      "Wall time: 661 µs\n"
     ]
    }
   ],
   "source": [
    "%%time\n",
    "print(eratosthenes_sieve_v2(1000))"
   ]
  },
  {
   "cell_type": "code",
   "execution_count": 128,
   "metadata": {},
   "outputs": [
    {
     "name": "stdout",
     "output_type": "stream",
     "text": [
      "[3, 5, 7, 11, 13, 17, 19, 23, 29, 31, 37, 41, 43, 47, 53, 59, 61, 67, 71, 73, 79, 83, 89, 97, 101, 103, 107, 109, 113, 127, 131, 137, 139, 149, 151, 157, 163, 167, 173, 179, 181, 191, 193, 197, 199, 211, 223, 227, 229, 233, 239, 241, 251, 257, 263, 269, 271, 277, 281, 283, 293, 307, 311, 313, 317, 331, 337, 347, 349, 353, 359, 367, 373, 379, 383, 389, 397, 401, 409, 419, 421, 431, 433, 439, 443, 449, 457, 461, 463, 467, 479, 487, 491, 499, 503, 509, 521, 523, 541, 547, 557, 563, 569, 571, 577, 587, 593, 599, 601, 607, 613, 617, 619, 631, 641, 643, 647, 653, 659, 661, 673, 677, 683, 691, 701, 709, 719, 727, 733, 739, 743, 751, 757, 761, 769, 773, 787, 797, 809, 811, 821, 823, 827, 829, 839, 853, 857, 859, 863, 877, 881, 883, 887, 907, 911, 919, 929, 937, 941, 947, 953, 967, 971, 977, 983, 991, 997]\n",
      "CPU times: user 4.53 ms, sys: 371 µs, total: 4.9 ms\n",
      "Wall time: 4.99 ms\n"
     ]
    }
   ],
   "source": [
    "%%time\n",
    "print(eratosthenes_sieve_v3(1000))"
   ]
  },
  {
   "cell_type": "markdown",
   "metadata": {},
   "source": [
    "### ¿Cuál tarda más?"
   ]
  },
  {
   "cell_type": "markdown",
   "metadata": {},
   "source": [
    "### ¿Por qué tardan más unas versiones que otras?"
   ]
  },
  {
   "cell_type": "markdown",
   "metadata": {},
   "source": [
    "### ¿Tiene alguna ventaja la versión más lenta?"
   ]
  },
  {
   "cell_type": "markdown",
   "metadata": {},
   "source": [
    "La discusión en torno a las respuestas a estas preguntas se deja como ejercicio para el foro en Slack..."
   ]
  }
 ],
 "metadata": {
  "kernelspec": {
   "display_name": "Python 3 (ipykernel)",
   "language": "python",
   "name": "python3"
  },
  "language_info": {
   "codemirror_mode": {
    "name": "ipython",
    "version": 3
   },
   "file_extension": ".py",
   "mimetype": "text/x-python",
   "name": "python",
   "nbconvert_exporter": "python",
   "pygments_lexer": "ipython3",
   "version": "3.9.12"
  }
 },
 "nbformat": 4,
 "nbformat_minor": 4
}
