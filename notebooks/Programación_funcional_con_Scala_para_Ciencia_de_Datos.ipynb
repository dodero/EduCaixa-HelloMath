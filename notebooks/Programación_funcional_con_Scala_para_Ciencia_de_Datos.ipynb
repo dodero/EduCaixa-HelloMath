{
 "cells": [
  {
   "cell_type": "markdown",
   "metadata": {
    "id": "up2G8zDbhsEN"
   },
   "source": [
    "# Programación funcional con Scala para Ciencia de Datos\n",
    "\n",
    "> SCALA is functional and objecte oriented progarmming running with JVM with aim to be scalable hence name as SCALA.\n",
    "\n",
    "Spark is written in scala which makes scala a native choice for processing big data. \n",
    "\n",
    "Key Objectives\n",
    "\n",
    "1. Install Scala to work with Google Colab\n",
    "2. Introduction and basics of Scala\n",
    "3. Scala for Data Science\n",
    "4. Scala with Spark Introduction\n",
    "\n",
    "Above is the bigger scope of this tutorial. The aim is to provide a working google colab notebook for all above sections\n"
   ]
  },
  {
   "cell_type": "markdown",
   "metadata": {
    "id": "sL1Vq6r6J6dA"
   },
   "source": [
    "# 1. Install the Scala Kernel on Google Colab\n",
    "\n",
    "I followed the tutorial [Machine Learning with Scala in Google Colaboratory](https://medium.com/@shadaj/machine-learning-with-scala-in-google-colaboratory-e6f1661f1c88) by [Shadad Laddad](https://medium.com/@shadaj) to start Scala kernel in the google colab.\n",
    "\n",
    "If you get a \"scala\" kernel not recognized warning when loading up the notebook for the first time, start by running the two cells below. Once you are done **reload the page** to load the notebook in the installed Scala kernel."
   ]
  },
  {
   "cell_type": "code",
   "execution_count": null,
   "metadata": {
    "colab": {
     "base_uri": "https://localhost:8080/"
    },
    "id": "RoCcdvTCAqeR",
    "outputId": "a6d10fb6-e057-4623-95bd-a88da7577413"
   },
   "outputs": [],
   "source": [
    "%%shell\n",
    "SCALA_VERSION=2.12.8 ALMOND_VERSION=0.3.0+16-548dc10f-SNAPSHOT\n",
    "curl -Lo coursier https://git.io/coursier-cli\n",
    "chmod +x coursier\n",
    "./coursier bootstrap \\\n",
    "    -r jitpack -r sonatype:snapshots \\\n",
    "    -i user -I user:sh.almond:scala-kernel-api_$SCALA_VERSION:$ALMOND_VERSION \\\n",
    "    sh.almond:scala-kernel_$SCALA_VERSION:$ALMOND_VERSION \\\n",
    "    --sources --default=true \\\n",
    "    -o almond-snapshot --embed-files=false\n",
    "rm coursier\n",
    "./almond-snapshot --install --global --force\n",
    "rm almond-snapshot"
   ]
  },
  {
   "cell_type": "code",
   "execution_count": null,
   "metadata": {
    "colab": {
     "base_uri": "https://localhost:8080/"
    },
    "id": "BZchIo9sArF4",
    "outputId": "a8fa7c9e-a05c-46d7-f26d-3ff8425880a4"
   },
   "outputs": [],
   "source": [
    "%%shell\n",
    "echo \"{\n",
    "  \\\"language\\\" : \\\"scala\\\",\n",
    "  \\\"display_name\\\" : \\\"Scala\\\",\n",
    "  \\\"argv\\\" : [\n",
    "    \\\"bash\\\",\n",
    "    \\\"-c\\\",\n",
    "    \\\"env LD_PRELOAD=/usr/lib/x86_64-linux-gnu/libpython3.6m.so:\\$LD_PRELOAD java -jar /usr/local/share/jupyter/kernels/scala/launcher.jar --connection-file {connection_file}\\\"\n",
    "  ]\n",
    "}\" > /usr/local/share/jupyter/kernels/scala/kernel.json"
   ]
  },
  {
   "cell_type": "markdown",
   "metadata": {
    "id": "kQe78pN0OSuq"
   },
   "source": [
    "## Hello World!\n",
    "\n",
    "Lets check if the scala is working or not. if it does not work refresh the page."
   ]
  },
  {
   "cell_type": "code",
   "execution_count": null,
   "metadata": {
    "colab": {
     "base_uri": "https://localhost:8080/",
     "height": 166
    },
    "id": "a9z0PxRg_iOp",
    "outputId": "35c25960-1e42-42d1-823c-e75587557b95"
   },
   "outputs": [],
   "source": [
    "println(\"Hello, world!\")"
   ]
  },
  {
   "cell_type": "markdown",
   "metadata": {
    "id": "n1xiPW3oZ9Ey"
   },
   "source": [
    "# Introduction to Scala\n",
    "In this section, we give some overview of basics of Scala programming, data types, function and sclasses. This is quick hands on tutorial of going through few examples based on the the course [Scala Essential Training for Data Science](https://www.lynda.com/Scala-tutorials/Scala-Essential-Training-Data-Science/559182-2.html). I am not going to write the details descriptions of commands.\n",
    "\n",
    "These the below sections covered.\n",
    "\n",
    "1. Data Types\n",
    "2. Scala Expressions\n",
    "3. Scala Functions\n",
    "4. Scala Classes/Objects\n",
    "4. Scala Parrallel Processing\n",
    "\n",
    "* I assume some basic knowledge of at least one programming languange. "
   ]
  },
  {
   "cell_type": "markdown",
   "metadata": {
    "id": "Lq2L8GQC5QJc"
   },
   "source": [
    "## Data Types\n",
    "\n",
    "Since, I am coming from Python back ground, typecasting is usually ignored in python however Scala required you to specify the data type of variables hence making more sense of understanding the data types implemented in Scala. Below are the most basic data types covered in above course.\n",
    "\n",
    "\n",
    "1. **Scala Data Types:** Int , Char, Float, Double, Long, Short, Boolean\n",
    "\n",
    "2. **Scala Collections :** Arrays , Vectors\n",
    "\n",
    "3. **Scala Maps :** Key value pairs\n",
    "\n",
    "You can practice these types using below sample codes.\n",
    "\n",
    "```\n",
    "# This is formatted as code\n",
    "```\n",
    "\n",
    "\n"
   ]
  },
  {
   "cell_type": "markdown",
   "metadata": {
    "id": "lS0tOcHF5QHE"
   },
   "source": [
    "### Scala Data Types"
   ]
  },
  {
   "cell_type": "code",
   "execution_count": null,
   "metadata": {
    "colab": {
     "base_uri": "https://localhost:8080/",
     "height": 33
    },
    "id": "e1V4BLDhauhs",
    "outputId": "843b936f-3654-46a6-d70b-3b1bfedac0b9"
   },
   "outputs": [],
   "source": [
    "var a_char: Char = 'd'"
   ]
  },
  {
   "cell_type": "code",
   "execution_count": null,
   "metadata": {
    "colab": {
     "base_uri": "https://localhost:8080/"
    },
    "id": "WtG8dly_Z8IC",
    "outputId": "a057b684-8474-488f-de10-689ade0343d1"
   },
   "outputs": [],
   "source": [
    "// define int variable\n",
    "var a_int:Int=3"
   ]
  },
  {
   "cell_type": "code",
   "execution_count": null,
   "metadata": {
    "colab": {
     "base_uri": "https://localhost:8080/"
    },
    "id": "dM7uMS-Ka_SE",
    "outputId": "05ffdc87-11d4-4468-d41a-1bb187494d46"
   },
   "outputs": [],
   "source": [
    "var a_long: Long = 832569\n"
   ]
  },
  {
   "cell_type": "code",
   "execution_count": null,
   "metadata": {
    "colab": {
     "base_uri": "https://localhost:8080/"
    },
    "id": "Cskx3K4SbInF",
    "outputId": "68353316-59b2-4712-e4fb-a090069d696a"
   },
   "outputs": [],
   "source": [
    "var b_char = 'c'"
   ]
  },
  {
   "cell_type": "code",
   "execution_count": null,
   "metadata": {
    "colab": {
     "base_uri": "https://localhost:8080/"
    },
    "id": "ipcpsy4NbNZL",
    "outputId": "98a7be6a-20ec-4880-b44d-044a4458b7e1"
   },
   "outputs": [],
   "source": [
    "var b_long = 8345679489l"
   ]
  },
  {
   "cell_type": "code",
   "execution_count": null,
   "metadata": {
    "colab": {
     "base_uri": "https://localhost:8080/"
    },
    "id": "mKGEDzBKbTq3",
    "outputId": "1a6a319d-bd75-4a5e-d2fb-f3cbef8a8cd9"
   },
   "outputs": [],
   "source": [
    "var b_long = 8345679489l"
   ]
  },
  {
   "cell_type": "code",
   "execution_count": null,
   "metadata": {
    "colab": {
     "base_uri": "https://localhost:8080/"
    },
    "id": "tmmWk663bXKm",
    "outputId": "eb5b4a3f-720d-4154-ebb9-6471c762e977"
   },
   "outputs": [],
   "source": [
    "var c_float=1.2345"
   ]
  },
  {
   "cell_type": "code",
   "execution_count": null,
   "metadata": {
    "colab": {
     "base_uri": "https://localhost:8080/"
    },
    "id": "-LKprBKkbae4",
    "outputId": "23f7d915-8200-416b-98a6-c1431ebe0447"
   },
   "outputs": [],
   "source": [
    "var c_float = 1.21356f"
   ]
  },
  {
   "cell_type": "code",
   "execution_count": null,
   "metadata": {
    "colab": {
     "base_uri": "https://localhost:8080/"
    },
    "id": "sSh-mlT4bekv",
    "outputId": "73f36217-0941-4a12-f961-7ed8968f3b29"
   },
   "outputs": [],
   "source": [
    "val z=8321569l"
   ]
  },
  {
   "cell_type": "markdown",
   "metadata": {
    "id": "-jCHhhLkbm8p"
   },
   "source": [
    "### Scala Collections"
   ]
  },
  {
   "cell_type": "code",
   "execution_count": null,
   "metadata": {
    "colab": {
     "base_uri": "https://localhost:8080/"
    },
    "id": "0KpVxjITbkUI",
    "outputId": "a7d3793c-9dfd-4401-9e1a-9f5f0ab42b25"
   },
   "outputs": [],
   "source": [
    "val temps= Array(50,51,56,53,40)"
   ]
  },
  {
   "cell_type": "code",
   "execution_count": null,
   "metadata": {
    "colab": {
     "base_uri": "https://localhost:8080/"
    },
    "id": "9cGgTJ-gb9a1",
    "outputId": "e2af64c0-5c79-4ba0-ac1b-149930d21c60"
   },
   "outputs": [],
   "source": [
    "temps(1)"
   ]
  },
  {
   "cell_type": "code",
   "execution_count": null,
   "metadata": {
    "colab": {
     "base_uri": "https://localhost:8080/"
    },
    "id": "B61S6WKKb-3h",
    "outputId": "c42587c8-1133-48de-9e52-113cab8d18b8"
   },
   "outputs": [],
   "source": [
    "temps(0)"
   ]
  },
  {
   "cell_type": "code",
   "execution_count": null,
   "metadata": {
    "colab": {
     "base_uri": "https://localhost:8080/"
    },
    "id": "OCgfoPWwcB0h",
    "outputId": "f9b47708-6521-4706-9e17-7f9508cbb706"
   },
   "outputs": [],
   "source": [
    "temps.length"
   ]
  },
  {
   "cell_type": "code",
   "execution_count": null,
   "metadata": {
    "colab": {
     "base_uri": "https://localhost:8080/"
    },
    "id": "_sVwALlMcGvk",
    "outputId": "241618e8-101c-4b74-d81a-abeb8684dbf5"
   },
   "outputs": [],
   "source": [
    "val temps2: Array[Int]=new Array[Int](10)"
   ]
  },
  {
   "cell_type": "code",
   "execution_count": null,
   "metadata": {
    "colab": {
     "base_uri": "https://localhost:8080/"
    },
    "id": "RNkefr1PcVhE",
    "outputId": "fddcf924-dcaa-4248-f682-096afc5ce678"
   },
   "outputs": [],
   "source": [
    "val temps3 = Array.ofDim[Int](10,10)"
   ]
  },
  {
   "cell_type": "code",
   "execution_count": null,
   "metadata": {
    "colab": {
     "base_uri": "https://localhost:8080/",
     "height": 33
    },
    "id": "9dOnTSuJchTE",
    "outputId": "61da20dc-57e9-4e0b-acec-f41506e2b647"
   },
   "outputs": [],
   "source": [
    "import Array._"
   ]
  },
  {
   "cell_type": "code",
   "execution_count": null,
   "metadata": {
    "colab": {
     "base_uri": "https://localhost:8080/",
     "height": 33
    },
    "id": "SLm4jiypcoHG",
    "outputId": "aa1d4eeb-61cf-4227-9f93-3142fbc455b1"
   },
   "outputs": [],
   "source": [
    "concat(temps, temps2)"
   ]
  },
  {
   "cell_type": "code",
   "execution_count": null,
   "metadata": {
    "id": "cdYDpeoucu2F"
   },
   "outputs": [],
   "source": [
    "temps. "
   ]
  },
  {
   "cell_type": "code",
   "execution_count": null,
   "metadata": {
    "colab": {
     "base_uri": "https://localhost:8080/",
     "height": 33
    },
    "id": "NXwt6kjMc60V",
    "outputId": "dccb744b-f3df-40a0-8fd1-86b0c1c6ddb0"
   },
   "outputs": [],
   "source": [
    "val vec1: Vector[Int] = Vector(1,2,3,4,5,6,7,8,9,10)"
   ]
  },
  {
   "cell_type": "code",
   "execution_count": null,
   "metadata": {
    "colab": {
     "base_uri": "https://localhost:8080/",
     "height": 33
    },
    "id": "hsZ7-jHndDKk",
    "outputId": "12260faf-886f-4de7-fa71-117a9a7db652"
   },
   "outputs": [],
   "source": [
    "vec1(0)"
   ]
  },
  {
   "cell_type": "code",
   "execution_count": null,
   "metadata": {
    "colab": {
     "base_uri": "https://localhost:8080/",
     "height": 33
    },
    "id": "2b5YOHKCdM--",
    "outputId": "b0d10ee8-c134-4ef9-a400-d99ea8ef8978"
   },
   "outputs": [],
   "source": [
    "val myrange = 1 to 10"
   ]
  },
  {
   "cell_type": "code",
   "execution_count": null,
   "metadata": {
    "colab": {
     "base_uri": "https://localhost:8080/",
     "height": 683
    },
    "id": "m1b0pXJmdWAx",
    "outputId": "7b334678-488b-4cb3-e5e7-4f3763c49ad2"
   },
   "outputs": [],
   "source": [
    "val myRange2 : Range  = new Range(1, 100, 2) "
   ]
  },
  {
   "cell_type": "markdown",
   "metadata": {
    "id": "mLqfUBhUoqC5"
   },
   "source": [
    "### Scala maps"
   ]
  },
  {
   "cell_type": "code",
   "execution_count": null,
   "metadata": {
    "colab": {
     "base_uri": "https://localhost:8080/"
    },
    "id": "HbPTuzQodj0v",
    "outputId": "baf0d21e-63d4-49b1-9a64-9d2e33e64e62"
   },
   "outputs": [],
   "source": [
    "val capitals= Map(\"Argentina\" -> \"Buenos Aires\", \"Canada\" -> \"Ottowa\", \"Egypt\" -> \"Cairo\", \"Liberia\" -> \"Monrovia\", \"Netherland\" -> \"Amstradam\", \"United Stats\"->\"Washinghton D.C\")"
   ]
  },
  {
   "cell_type": "code",
   "execution_count": null,
   "metadata": {
    "colab": {
     "base_uri": "https://localhost:8080/"
    },
    "id": "Sp9k7RcOpfaD",
    "outputId": "23b95f41-7662-409f-a90f-b1c723aabaea"
   },
   "outputs": [],
   "source": [
    "capitals.keys"
   ]
  },
  {
   "cell_type": "code",
   "execution_count": null,
   "metadata": {
    "colab": {
     "base_uri": "https://localhost:8080/"
    },
    "id": "AS4yFTLipsQk",
    "outputId": "4574c92d-81e7-4825-ac27-2d368229c354"
   },
   "outputs": [],
   "source": [
    "capitals.values"
   ]
  },
  {
   "cell_type": "code",
   "execution_count": null,
   "metadata": {
    "colab": {
     "base_uri": "https://localhost:8080/"
    },
    "id": "wkC43ZLep3k_",
    "outputId": "fb2212de-163b-4107-9be5-6cd7b34c7a2e"
   },
   "outputs": [],
   "source": [
    "capitals get \"United States\""
   ]
  },
  {
   "cell_type": "code",
   "execution_count": null,
   "metadata": {
    "colab": {
     "base_uri": "https://localhost:8080/"
    },
    "id": "z4YlWe6XqBEX",
    "outputId": "df970fcb-9273-47d9-a994-e009f74db150"
   },
   "outputs": [],
   "source": [
    "capitals(\"Canada\")"
   ]
  },
  {
   "cell_type": "code",
   "execution_count": null,
   "metadata": {
    "colab": {
     "base_uri": "https://localhost:8080/"
    },
    "id": "SLp6QBYqqIdv",
    "outputId": "bcbac512-6c21-4c4b-8553-192a46333b77"
   },
   "outputs": [],
   "source": [
    "capitals contains \"Egypt\""
   ]
  },
  {
   "cell_type": "code",
   "execution_count": null,
   "metadata": {
    "colab": {
     "base_uri": "https://localhost:8080/",
     "height": 33
    },
    "id": "jZqirBLJqVRY",
    "outputId": "8524f640-c864-463f-f1cd-829e14d2b232"
   },
   "outputs": [],
   "source": [
    "capitals getOrElse(\"China\", \"No capital found\")"
   ]
  },
  {
   "cell_type": "code",
   "execution_count": null,
   "metadata": {
    "colab": {
     "base_uri": "https://localhost:8080/",
     "height": 166
    },
    "id": "cXVP_PJwqi6e",
    "outputId": "bde40a62-ea63-4c03-855c-cd5c7faf5c60"
   },
   "outputs": [],
   "source": [
    "capitals+ (\"Ireland\"->\"Dublin\")"
   ]
  },
  {
   "cell_type": "code",
   "execution_count": null,
   "metadata": {
    "colab": {
     "base_uri": "https://localhost:8080/",
     "height": 133
    },
    "id": "gas1srl-qvEK",
    "outputId": "ee917321-e6e4-4938-e7d3-03aa8966ef2d"
   },
   "outputs": [],
   "source": [
    "capitals - \"Liberia\""
   ]
  },
  {
   "cell_type": "markdown",
   "metadata": {
    "id": "rGJZ_hLTrub5"
   },
   "source": [
    "## Scala Expressions\n",
    "\n",
    "As with other languages, Scala expressions follow the similar approach with numerical, boolean and ligical expressions. Follow below lines of codes to practice some of the most commonly used expressions.\n",
    "\n"
   ]
  },
  {
   "cell_type": "code",
   "execution_count": null,
   "metadata": {
    "colab": {
     "base_uri": "https://localhost:8080/",
     "height": 33
    },
    "id": "pQj7e4_Iq3eK",
    "outputId": "791fd8d1-98b4-4298-ce65-a459bbc552ce"
   },
   "outputs": [],
   "source": [
    "2+2"
   ]
  },
  {
   "cell_type": "code",
   "execution_count": null,
   "metadata": {
    "colab": {
     "base_uri": "https://localhost:8080/",
     "height": 33
    },
    "id": "ZXXppLb7sHp_",
    "outputId": "9e4633b6-0c87-48d0-ca98-5204cf415391"
   },
   "outputs": [],
   "source": [
    "5-6"
   ]
  },
  {
   "cell_type": "code",
   "execution_count": null,
   "metadata": {
    "colab": {
     "base_uri": "https://localhost:8080/",
     "height": 33
    },
    "id": "JKwkHJg0sIyp",
    "outputId": "4b2c1eb6-8a47-4307-9476-fb8337cc1370"
   },
   "outputs": [],
   "source": [
    "4*6"
   ]
  },
  {
   "cell_type": "code",
   "execution_count": null,
   "metadata": {
    "colab": {
     "base_uri": "https://localhost:8080/",
     "height": 33
    },
    "id": "QWUsB9D5sKBZ",
    "outputId": "caac1d0b-f26f-4fcc-c6c0-fa4004c3d490"
   },
   "outputs": [],
   "source": [
    "33/4"
   ]
  },
  {
   "cell_type": "code",
   "execution_count": null,
   "metadata": {
    "colab": {
     "base_uri": "https://localhost:8080/",
     "height": 33
    },
    "id": "8z_Kff4csLVo",
    "outputId": "9d2ca743-88db-42fb-d44b-21d3a82d2c15"
   },
   "outputs": [],
   "source": [
    "33%6"
   ]
  },
  {
   "cell_type": "code",
   "execution_count": null,
   "metadata": {
    "colab": {
     "base_uri": "https://localhost:8080/",
     "height": 33
    },
    "id": "jbrm_qYgsNGb",
    "outputId": "246b340b-01e7-4dfa-8be1-71af843f98d7"
   },
   "outputs": [],
   "source": [
    "3>4"
   ]
  },
  {
   "cell_type": "code",
   "execution_count": null,
   "metadata": {
    "colab": {
     "base_uri": "https://localhost:8080/",
     "height": 33
    },
    "id": "l91KdmhysObg",
    "outputId": "18f41843-f3e6-4169-e6e9-a5026fa476f8"
   },
   "outputs": [],
   "source": [
    "6==9"
   ]
  },
  {
   "cell_type": "code",
   "execution_count": null,
   "metadata": {
    "colab": {
     "base_uri": "https://localhost:8080/",
     "height": 33
    },
    "id": "g67DB26dsQLB",
    "outputId": "0ab52aa3-7afb-4b24-a0fa-35a1cb20b163"
   },
   "outputs": [],
   "source": [
    "(3>4) &(5<=10)"
   ]
  },
  {
   "cell_type": "code",
   "execution_count": null,
   "metadata": {
    "colab": {
     "base_uri": "https://localhost:8080/",
     "height": 33
    },
    "id": "eJ6_JDagsTTm",
    "outputId": "eb84ae24-838c-4a3c-eeba-45bd7896ee9e"
   },
   "outputs": [],
   "source": [
    "(3>4)  || (5<=10)"
   ]
  },
  {
   "cell_type": "code",
   "execution_count": null,
   "metadata": {
    "colab": {
     "base_uri": "https://localhost:8080/",
     "height": 130
    },
    "id": "eiADP8e1sWJa",
    "outputId": "01b66203-f384-4282-ea69-3150d3555df7"
   },
   "outputs": [],
   "source": [
    "~(3>4) &(5<=10)"
   ]
  },
  {
   "cell_type": "code",
   "execution_count": null,
   "metadata": {
    "colab": {
     "base_uri": "https://localhost:8080/",
     "height": 66
    },
    "id": "OFzQnAGGsYkS",
    "outputId": "ae510c27-36ab-4109-b4fc-eeb8a0416648"
   },
   "outputs": [],
   "source": [
    "var a : Int = 6\n",
    "var b : Int = 10\n",
    "var c : Int = 41"
   ]
  },
  {
   "cell_type": "code",
   "execution_count": null,
   "metadata": {
    "colab": {
     "base_uri": "https://localhost:8080/",
     "height": 33
    },
    "id": "2jA-wgvssn2O",
    "outputId": "2e3366fc-0e3b-4b2c-979d-bf6e40a50176"
   },
   "outputs": [],
   "source": [
    "var d = a + c"
   ]
  },
  {
   "cell_type": "code",
   "execution_count": null,
   "metadata": {
    "id": "21MRH4bzspsI"
   },
   "outputs": [],
   "source": [
    "a+=b"
   ]
  },
  {
   "cell_type": "code",
   "execution_count": null,
   "metadata": {
    "colab": {
     "base_uri": "https://localhost:8080/",
     "height": 33
    },
    "id": "gDLZIV8fszIX",
    "outputId": "e0d843ef-7b5e-4932-b42c-8085baff101b"
   },
   "outputs": [],
   "source": [
    "a"
   ]
  },
  {
   "cell_type": "code",
   "execution_count": null,
   "metadata": {
    "id": "jtFQ12vps1PJ"
   },
   "outputs": [],
   "source": [
    "c *= a"
   ]
  },
  {
   "cell_type": "code",
   "execution_count": null,
   "metadata": {
    "colab": {
     "base_uri": "https://localhost:8080/",
     "height": 33
    },
    "id": "yJUiKfAQs6U4",
    "outputId": "97e5dcc6-5467-49ed-c7a6-83e8827d7c7e"
   },
   "outputs": [],
   "source": [
    "c"
   ]
  },
  {
   "cell_type": "code",
   "execution_count": null,
   "metadata": {
    "colab": {
     "base_uri": "https://localhost:8080/",
     "height": 33
    },
    "id": "zVlvI2z8s8lR",
    "outputId": "e4a7c571-263d-43fc-e8c2-3028f24d5c19"
   },
   "outputs": [],
   "source": [
    "println({\n",
    "val a = 2 * 3\n",
    "a + 4\n",
    "})"
   ]
  },
  {
   "cell_type": "code",
   "execution_count": null,
   "metadata": {
    "colab": {
     "base_uri": "https://localhost:8080/",
     "height": 33
    },
    "id": "jUiUuk78tJfu",
    "outputId": "00561eeb-870e-4f80-d575-bb339caf1cbf"
   },
   "outputs": [],
   "source": [
    "println({\n",
    "  val a = 2*3\n",
    "  a+4\n",
    "})"
   ]
  },
  {
   "cell_type": "markdown",
   "metadata": {
    "id": "tozzNiUWt9iQ"
   },
   "source": [
    "## Scala Functions\n",
    "\n",
    "Scala is an objected oriented programming languange  and you can write functions pretty much following the same style. Below are some of the examples to practice writing functions in Scala.\n"
   ]
  },
  {
   "cell_type": "code",
   "execution_count": null,
   "metadata": {
    "colab": {
     "base_uri": "https://localhost:8080/",
     "height": 33
    },
    "id": "dGdchi_1tzxm",
    "outputId": "6e0288f2-789b-4f6a-8ede-a8bb64b35c1a"
   },
   "outputs": [],
   "source": [
    "def myFunction(a:Int, b:Int): Int = {\n",
    "  val c = a*b\n",
    "  return c\n",
    "}"
   ]
  },
  {
   "cell_type": "code",
   "execution_count": null,
   "metadata": {
    "colab": {
     "base_uri": "https://localhost:8080/",
     "height": 33
    },
    "id": "VdvbdeVvuOev",
    "outputId": "fb854aae-fde3-4b89-8a9a-927ad95e075e"
   },
   "outputs": [],
   "source": [
    "myFunction(2,4)"
   ]
  },
  {
   "cell_type": "code",
   "execution_count": null,
   "metadata": {
    "colab": {
     "base_uri": "https://localhost:8080/",
     "height": 33
    },
    "id": "6uoKCaDCuRVJ",
    "outputId": "0e3e7372-6fa1-4fe0-abf7-3d7567ee36bc"
   },
   "outputs": [],
   "source": [
    "def myProcedure(inStr: String) : Unit ={\n",
    "  println(inStr)\n",
    "}"
   ]
  },
  {
   "cell_type": "code",
   "execution_count": null,
   "metadata": {
    "colab": {
     "base_uri": "https://localhost:8080/",
     "height": 33
    },
    "id": "d439XLOPufh5",
    "outputId": "0b149ae9-304a-47c6-ddf4-0daa36683304"
   },
   "outputs": [],
   "source": [
    "myProcedure(\"Log it as a test message\")"
   ]
  },
  {
   "cell_type": "markdown",
   "metadata": {
    "id": "SsJkK5_XuypG"
   },
   "source": [
    "## Scala Classes and Objects\n",
    "\n",
    "Working with big data and complex code structures, classes make things simpler for programmers. Like other languages, you can write classes in Scala. Below are some examples."
   ]
  },
  {
   "cell_type": "code",
   "execution_count": null,
   "metadata": {
    "colab": {
     "base_uri": "https://localhost:8080/",
     "height": 33
    },
    "id": "RbrL0ZyzuktE",
    "outputId": "20dd7489-a09c-46ae-e0fb-274249087d0b"
   },
   "outputs": [],
   "source": [
    "val y = Array(\"England\", \"Liberia\", \"Haiti\", \"Austrailia\", \"Sweden\" )"
   ]
  },
  {
   "cell_type": "code",
   "execution_count": null,
   "metadata": {
    "colab": {
     "base_uri": "https://localhost:8080/",
     "height": 133
    },
    "id": "8nPgiWvBvH0N",
    "outputId": "a7c76398-bb3d-4c6b-e9f5-7540829a5bf5"
   },
   "outputs": [],
   "source": [
    "y.sorted"
   ]
  },
  {
   "cell_type": "code",
   "execution_count": null,
   "metadata": {
    "colab": {
     "base_uri": "https://localhost:8080/",
     "height": 33
    },
    "id": "5ExEoudevJ7W",
    "outputId": "fde68be3-f062-4d2b-aa82-e49e9dd4848f"
   },
   "outputs": [],
   "source": [
    "class location(var latitude:Int, var lat_direction:Char, var longitude:Int, var long_direction:Char, var altitude:Int)"
   ]
  },
  {
   "cell_type": "code",
   "execution_count": null,
   "metadata": {
    "colab": {
     "base_uri": "https://localhost:8080/",
     "height": 33
    },
    "id": "8C9TTsmFvwU6",
    "outputId": "32e39686-345b-4e78-9c2c-c2e289b62f39"
   },
   "outputs": [],
   "source": [
    "val loc1 = new location(45, 'N', 10, 'W', 300)"
   ]
  },
  {
   "cell_type": "code",
   "execution_count": null,
   "metadata": {
    "colab": {
     "base_uri": "https://localhost:8080/",
     "height": 33
    },
    "id": "TVu8nF1dv_Nl",
    "outputId": "9adf27ff-aa8a-4294-8b5e-ffa6977c59fb"
   },
   "outputs": [],
   "source": [
    "loc1.altitude"
   ]
  },
  {
   "cell_type": "code",
   "execution_count": null,
   "metadata": {
    "colab": {
     "base_uri": "https://localhost:8080/",
     "height": 33
    },
    "id": "pGOy6xkLwB-o",
    "outputId": "e1447ea0-628a-4273-d7cf-7b889100d11b"
   },
   "outputs": [],
   "source": [
    "loc1.lat_direction"
   ]
  },
  {
   "cell_type": "code",
   "execution_count": null,
   "metadata": {
    "colab": {
     "base_uri": "https://localhost:8080/",
     "height": 33
    },
    "id": "z67jQQ4PwSNu",
    "outputId": "c4190883-9b45-4bf7-c070-778c050ead74"
   },
   "outputs": [],
   "source": [
    "class myPublicPrivate(val x:Int=0, val y:Int=0, private val z:Int=0)"
   ]
  },
  {
   "cell_type": "code",
   "execution_count": null,
   "metadata": {
    "colab": {
     "base_uri": "https://localhost:8080/",
     "height": 33
    },
    "id": "SEqLsXx7wscF",
    "outputId": "d367208f-7aea-4b7b-f124-5b8f79bf92f3"
   },
   "outputs": [],
   "source": [
    "val myPP = new myPublicPrivate"
   ]
  },
  {
   "cell_type": "code",
   "execution_count": null,
   "metadata": {
    "colab": {
     "base_uri": "https://localhost:8080/",
     "height": 33
    },
    "id": "s97RcqhNw6QI",
    "outputId": "750a5365-f5df-4fb5-d4e7-ae257481206e"
   },
   "outputs": [],
   "source": [
    "class Point2D(coord1:Int, coord2:Int){\n",
    "  var a: Int = coord1\n",
    "  var b: Int = coord2\n",
    "\n",
    "  def move(delta_a: Int, delta_b: Int){\n",
    "    a = a + delta_a\n",
    "    b = b + delta_b\n",
    "  }\n",
    "\n",
    "}"
   ]
  },
  {
   "cell_type": "code",
   "execution_count": null,
   "metadata": {
    "colab": {
     "base_uri": "https://localhost:8080/",
     "height": 33
    },
    "id": "KxO2kTBCxpNs",
    "outputId": "3b85f52e-5310-4adf-e732-b2d607e15c1c"
   },
   "outputs": [],
   "source": [
    "val point1 = new Point2D(2,4)"
   ]
  },
  {
   "cell_type": "code",
   "execution_count": null,
   "metadata": {
    "colab": {
     "base_uri": "https://localhost:8080/",
     "height": 33
    },
    "id": "brAkztc-yDnN",
    "outputId": "38ac1b2d-17e5-4346-954e-511d9b2d3347"
   },
   "outputs": [],
   "source": [
    "point1.a"
   ]
  },
  {
   "cell_type": "code",
   "execution_count": null,
   "metadata": {
    "colab": {
     "base_uri": "https://localhost:8080/",
     "height": 33
    },
    "id": "3gv9H9T7yGmC",
    "outputId": "630a1618-be7f-47cf-bca0-d09fd0661c75"
   },
   "outputs": [],
   "source": [
    "point1.b"
   ]
  },
  {
   "cell_type": "code",
   "execution_count": null,
   "metadata": {
    "id": "sNJJKX5SxwuE"
   },
   "outputs": [],
   "source": [
    "point1.move(1,4)"
   ]
  },
  {
   "cell_type": "code",
   "execution_count": null,
   "metadata": {
    "colab": {
     "base_uri": "https://localhost:8080/",
     "height": 50
    },
    "id": "aOr_VcZDx284",
    "outputId": "86ef18c2-fad3-4041-92fa-048c33d42550"
   },
   "outputs": [],
   "source": [
    "point1.a\n",
    "point1.b"
   ]
  },
  {
   "cell_type": "markdown",
   "metadata": {
    "id": "tLMwTzm4y_WR"
   },
   "source": [
    "## Parallel Processing in Scala\n",
    "The key objective of Scala is to work with large data sets. To achieve that Scala has very clean solution of processing in parallel with minimal code change. If you are coming from Python, multiprocessing is hard to setup and often results with unintended results and failures. Scala has much better support of multi processing. Among other operations, filter and map are the most commonly used when processing in parallel. Follow some examples below."
   ]
  },
  {
   "cell_type": "code",
   "execution_count": null,
   "metadata": {
    "colab": {
     "base_uri": "https://localhost:8080/"
    },
    "id": "CoIY_oY2yZRt",
    "outputId": "986c79f0-2365-403f-887e-a138b0d0c2e6"
   },
   "outputs": [],
   "source": [
    "val tng10 = 1 to 10"
   ]
  },
  {
   "cell_type": "code",
   "execution_count": null,
   "metadata": {
    "colab": {
     "base_uri": "https://localhost:8080/"
    },
    "id": "E9yEYPl-zfeT",
    "outputId": "72b50baf-aabc-4e63-abea-a6ef4f4d1337"
   },
   "outputs": [],
   "source": [
    "val prng10 = tng10.par"
   ]
  },
  {
   "cell_type": "code",
   "execution_count": null,
   "metadata": {
    "colab": {
     "base_uri": "https://localhost:8080/"
    },
    "id": "U1hi7A47zvv8",
    "outputId": "924887ea-55c1-46b9-e1c2-5179fde71de9"
   },
   "outputs": [],
   "source": [
    "import scala.collection.parallel.immutable.ParVector"
   ]
  },
  {
   "cell_type": "code",
   "execution_count": null,
   "metadata": {
    "colab": {
     "base_uri": "https://localhost:8080/"
    },
    "id": "r3V_qoDN0CMT",
    "outputId": "908c2ac0-b3f8-4932-9464-c43b7b5f2cb6"
   },
   "outputs": [],
   "source": [
    "val pvec200 = ParVector.range(0,200)"
   ]
  },
  {
   "cell_type": "code",
   "execution_count": null,
   "metadata": {
    "colab": {
     "base_uri": "https://localhost:8080/"
    },
    "id": "f4XzWvWC0QZm",
    "outputId": "9ba85c7d-7780-4c30-b1b7-0831767a23df"
   },
   "outputs": [],
   "source": [
    "// mapping fucntion over Parallel Collection\n",
    "\n",
    "val v = (1 to 100).toArray\n"
   ]
  },
  {
   "cell_type": "code",
   "execution_count": null,
   "metadata": {
    "colab": {
     "base_uri": "https://localhost:8080/"
    },
    "id": "CXpb7vvx0hGo",
    "outputId": "a3165681-09a9-4281-d3af-d7e27461b3fa"
   },
   "outputs": [],
   "source": [
    "val pv = v.par"
   ]
  },
  {
   "cell_type": "code",
   "execution_count": null,
   "metadata": {
    "colab": {
     "base_uri": "https://localhost:8080/"
    },
    "id": "RFcp87tc0m4q",
    "outputId": "aca163c3-c78a-4c3e-c588-8415ca4dce82"
   },
   "outputs": [],
   "source": [
    "v.map(_*2)"
   ]
  },
  {
   "cell_type": "code",
   "execution_count": null,
   "metadata": {
    "colab": {
     "base_uri": "https://localhost:8080/"
    },
    "id": "syizBxbA00y5",
    "outputId": "e9a45a0b-6066-4f65-ef2d-6b3cde309939"
   },
   "outputs": [],
   "source": [
    "pv.map(_ *2)"
   ]
  },
  {
   "cell_type": "code",
   "execution_count": null,
   "metadata": {
    "colab": {
     "base_uri": "https://localhost:8080/"
    },
    "id": "6BAGEKED043Q",
    "outputId": "22aa23a6-c3c8-4de1-9988-4e66a996c3d8"
   },
   "outputs": [],
   "source": [
    "def square(x:Int) : Int = {return x*x}"
   ]
  },
  {
   "cell_type": "code",
   "execution_count": null,
   "metadata": {
    "colab": {
     "base_uri": "https://localhost:8080/"
    },
    "id": "8BXtL7uW1QDa",
    "outputId": "88a32d9e-3762-4e17-c6c5-ee55581915af"
   },
   "outputs": [],
   "source": [
    "square(3)"
   ]
  },
  {
   "cell_type": "code",
   "execution_count": null,
   "metadata": {
    "colab": {
     "base_uri": "https://localhost:8080/"
    },
    "id": "Ps1z83ne1RyE",
    "outputId": "98782f71-50bd-4b4e-d1a5-92773d5c7b39"
   },
   "outputs": [],
   "source": [
    "v.map(square(_))"
   ]
  },
  {
   "cell_type": "code",
   "execution_count": null,
   "metadata": {
    "colab": {
     "base_uri": "https://localhost:8080/"
    },
    "id": "3W5fyrLD1aqL",
    "outputId": "756bb70b-73a4-4d61-d996-45270ff54a5f"
   },
   "outputs": [],
   "source": [
    "pv.map(square(_))"
   ]
  },
  {
   "cell_type": "code",
   "execution_count": null,
   "metadata": {
    "colab": {
     "base_uri": "https://localhost:8080/"
    },
    "id": "y0ePHdP31eU4",
    "outputId": "b415db80-7e5a-40c5-d776-07cd33bdfa5e"
   },
   "outputs": [],
   "source": [
    "// Filtering parallel collections\n",
    "val v = (1 to 10000).toArray\n",
    "val pv = v.par"
   ]
  },
  {
   "cell_type": "code",
   "execution_count": null,
   "metadata": {
    "colab": {
     "base_uri": "https://localhost:8080/",
     "height": 33
    },
    "id": "nBZ6p6LF11h2",
    "outputId": "6b4f2ea7-96b3-428b-c104-2a281392f197"
   },
   "outputs": [],
   "source": [
    "v.length"
   ]
  },
  {
   "cell_type": "code",
   "execution_count": null,
   "metadata": {
    "colab": {
     "base_uri": "https://localhost:8080/",
     "height": 33
    },
    "id": "HpDEWfH417FR",
    "outputId": "8e746458-918a-4366-cc0b-bc07450c3e18"
   },
   "outputs": [],
   "source": [
    "pv.length"
   ]
  },
  {
   "cell_type": "code",
   "execution_count": null,
   "metadata": {
    "colab": {
     "base_uri": "https://localhost:8080/",
     "height": 53
    },
    "id": "ndAcSeXw18sq",
    "outputId": "7d276fe0-5b3e-46fe-dc80-193aff49a87d"
   },
   "outputs": [],
   "source": [
    "val pvf = pv.filter(_ > 5000)"
   ]
  },
  {
   "cell_type": "code",
   "execution_count": null,
   "metadata": {
    "colab": {
     "base_uri": "https://localhost:8080/",
     "height": 33
    },
    "id": "4bIfOAvx2HBi",
    "outputId": "bae089d0-f580-47aa-aa0e-7181419295bd"
   },
   "outputs": [],
   "source": [
    "pvf.length"
   ]
  },
  {
   "cell_type": "code",
   "execution_count": null,
   "metadata": {
    "colab": {
     "base_uri": "https://localhost:8080/",
     "height": 53
    },
    "id": "6xnnEWaE2KXj",
    "outputId": "c14bc01c-51a7-4707-8e83-d4549ec33248"
   },
   "outputs": [],
   "source": [
    "val pvf2 = pv.filterNot(_ > 5000)"
   ]
  },
  {
   "cell_type": "code",
   "execution_count": null,
   "metadata": {
    "colab": {
     "base_uri": "https://localhost:8080/",
     "height": 33
    },
    "id": "UrRhzoPx2P4q",
    "outputId": "07d1f75b-b85c-442d-b2d1-34a8b92f63bf"
   },
   "outputs": [],
   "source": [
    "// function to return True or False whether value is divisible by 3\n",
    "def div3(x:Int) : Boolean = { val y:Int = (x%3); return(y==0)}"
   ]
  },
  {
   "cell_type": "code",
   "execution_count": null,
   "metadata": {
    "colab": {
     "base_uri": "https://localhost:8080/",
     "height": 33
    },
    "id": "lb_fotp02wwn",
    "outputId": "d399db6d-85e2-41df-8601-ae7228e0a36e"
   },
   "outputs": [],
   "source": [
    "div3(9)"
   ]
  },
  {
   "cell_type": "code",
   "execution_count": null,
   "metadata": {
    "colab": {
     "base_uri": "https://localhost:8080/",
     "height": 53
    },
    "id": "CDAq1teU2zW1",
    "outputId": "1edfc1c0-10af-48a4-c9f6-d7be896da6f3"
   },
   "outputs": [],
   "source": [
    "pv.filter(div3(_))"
   ]
  },
  {
   "cell_type": "markdown",
   "metadata": {
    "id": "0_CMtE5I_0pB"
   },
   "source": [
    "# Programación funcional para proceso de datos\n",
    "\n",
    "Vamos a usar las bibliotecas de **Scala 2.x**\n",
    "Si se usara **Scala 3.x**, habría que usar `LazyList`en lugar de `Stream` porque éste se ha propuesto como obsoleto (_deprecated_)"
   ]
  },
  {
   "cell_type": "code",
   "execution_count": null,
   "metadata": {},
   "outputs": [],
   "source": [
    "def time[T](f: => T): T = {\n",
    "    val start = System.nanoTime()\n",
    "    val ret = f\n",
    "    val end = System.nanoTime()\n",
    "    println(s\"Time taken: ${(end - start) / 1000 } µs\")\n",
    "    ret\n",
    "}"
   ]
  },
  {
   "cell_type": "markdown",
   "metadata": {
    "id": "Lr-jgBMGACl0"
   },
   "source": [
    "## Criba de primos\n",
    "\n",
    "Algoritmo con programación funcional para cribar los primeros 5 números primos.\n",
    "\n",
    "Pequeña optimización: comprobar solo desde el 3, de dos en dos (no comprobar los pares)"
   ]
  },
  {
   "cell_type": "code",
   "execution_count": 1,
   "metadata": {
    "colab": {
     "base_uri": "https://localhost:8080/"
    },
    "id": "PbvWPrjU_7ZD",
    "outputId": "2c873ec8-9667-4d55-b86f-cf6f318fbdb3"
   },
   "outputs": [
    {
     "data": {
      "text/plain": [
       "\u001b[32mimport \u001b[39m\u001b[36mscala.collection.immutable.Stream\n",
       "\n",
       "\u001b[39m\n",
       "defined \u001b[32mfunction\u001b[39m \u001b[36mprimes\u001b[39m"
      ]
     },
     "execution_count": 1,
     "metadata": {},
     "output_type": "execute_result"
    }
   ],
   "source": [
    "import scala.collection.immutable.Stream\n",
    "\n",
    "def primes(numberStream: Stream[Int] = Stream.from(3, 2)): Stream[Int] = {\n",
    "  numberStream.head #:: primes(numberStream.tail.filter(_ % numberStream.head != 0))\n",
    "}"
   ]
  },
  {
   "cell_type": "markdown",
   "metadata": {
    "id": "F1ZzvyUuBG7D"
   },
   "source": [
    "Pedimos sólo los 5 primeros..."
   ]
  },
  {
   "cell_type": "code",
   "execution_count": 2,
   "metadata": {
    "colab": {
     "base_uri": "https://localhost:8080/"
    },
    "id": "9H1SvhBJBF5-",
    "outputId": "f2f55f09-1084-43df-dbc9-a6f20e81303b"
   },
   "outputs": [
    {
     "data": {
      "text/plain": [
       "\u001b[36mres1\u001b[39m: (\u001b[32mList\u001b[39m[\u001b[32mInt\u001b[39m], \u001b[32mconcurrent\u001b[39m.\u001b[32mduration\u001b[39m.\u001b[32mFiniteDuration\u001b[39m) = (\n",
       "  \u001b[33mList\u001b[39m(\u001b[32m3\u001b[39m, \u001b[32m5\u001b[39m, \u001b[32m7\u001b[39m, \u001b[32m11\u001b[39m, \u001b[32m13\u001b[39m),\n",
       "  1689721 nanoseconds\n",
       ")"
      ]
     },
     "execution_count": 2,
     "metadata": {},
     "output_type": "execute_result"
    }
   ],
   "source": [
    "time { primes().take(5).toList }\n"
   ]
  },
  {
   "cell_type": "markdown",
   "metadata": {
    "id": "EqYPaHORCCrU"
   },
   "source": [
    "Pedimos algunos más..."
   ]
  },
  {
   "cell_type": "code",
   "execution_count": 3,
   "metadata": {
    "colab": {
     "base_uri": "https://localhost:8080/"
    },
    "id": "ZNsSyICuCBei",
    "outputId": "e3b30ef5-cf44-4a07-eee1-d5f6efab1f3f"
   },
   "outputs": [
    {
     "data": {
      "text/plain": [
       "\u001b[36mres2\u001b[39m: (\u001b[32mList\u001b[39m[\u001b[32mInt\u001b[39m], \u001b[32mconcurrent\u001b[39m.\u001b[32mduration\u001b[39m.\u001b[32mFiniteDuration\u001b[39m) = (\n",
       "  \u001b[33mList\u001b[39m(\u001b[32m3\u001b[39m, \u001b[32m5\u001b[39m, \u001b[32m7\u001b[39m, \u001b[32m11\u001b[39m, \u001b[32m13\u001b[39m, \u001b[32m17\u001b[39m, \u001b[32m19\u001b[39m, \u001b[32m23\u001b[39m, \u001b[32m29\u001b[39m, \u001b[32m31\u001b[39m, \u001b[32m37\u001b[39m, \u001b[32m41\u001b[39m, \u001b[32m43\u001b[39m, \u001b[32m47\u001b[39m, \u001b[32m53\u001b[39m),\n",
       "  295099 nanoseconds\n",
       ")"
      ]
     },
     "execution_count": 3,
     "metadata": {},
     "output_type": "execute_result"
    }
   ],
   "source": [
    "time { primes().take(15).toList }"
   ]
  },
  {
   "cell_type": "markdown",
   "metadata": {
    "id": "5OuTfNQsCjwG"
   },
   "source": [
    "## Criba de Eratóstenes\n",
    "\n",
    "### Versión funcional"
   ]
  },
  {
   "cell_type": "code",
   "execution_count": 4,
   "metadata": {
    "colab": {
     "base_uri": "https://localhost:8080/"
    },
    "id": "q-xVaB5WCmt5",
    "outputId": "d94e0e04-474e-4518-b1a8-f2328c8b907d"
   },
   "outputs": [
    {
     "data": {
      "text/plain": [
       "\u001b[32mimport \u001b[39m\u001b[36mscala.math.sqrt\n",
       "\n",
       "\u001b[39m\n",
       "defined \u001b[32mfunction\u001b[39m \u001b[36mprimesFunctional\u001b[39m"
      ]
     },
     "execution_count": 4,
     "metadata": {},
     "output_type": "execute_result"
    }
   ],
   "source": [
    "import scala.math.sqrt\n",
    "\n",
    "def primesFunctional(lastToCheck: Int): List[Int] = {\n",
    "  // todos los números (impares) a examinar, hasta el mayor deseado (lastToCheck)\n",
    "  val odds = Stream.from(3, 2).takeWhile(_ <= sqrt(lastToCheck).toInt)\n",
    "  // todos los múltiplos de un determinado número i (optimizando, desde el cuadrado de i)\n",
    "  val composites = odds.flatMap(i => Stream.from(i * i, 2 * i).takeWhile(_ <= lastToCheck))\n",
    "  // quitamos los múltiplos de la lista con todos los números a examinar\n",
    "  Stream.from(3, 2).takeWhile(_ <= lastToCheck).diff(composites).toList\n",
    "}"
   ]
  },
  {
   "cell_type": "code",
   "execution_count": 5,
   "metadata": {},
   "outputs": [
    {
     "data": {
      "text/plain": [
       "\u001b[36mallToCheck\u001b[39m: \u001b[32mStream\u001b[39m[\u001b[32mInt\u001b[39m] = \u001b[33mStream\u001b[39m(\n",
       "  \u001b[32m3\u001b[39m,\n",
       "  \u001b[32m5\u001b[39m,\n",
       "  \u001b[32m7\u001b[39m,\n",
       "  \u001b[32m9\u001b[39m,\n",
       "  \u001b[32m11\u001b[39m,\n",
       "  \u001b[32m13\u001b[39m,\n",
       "  \u001b[32m15\u001b[39m,\n",
       "  \u001b[32m17\u001b[39m,\n",
       "  \u001b[32m19\u001b[39m,\n",
       "  \u001b[32m21\u001b[39m,\n",
       "  \u001b[32m23\u001b[39m,\n",
       "  \u001b[32m25\u001b[39m,\n",
       "  \u001b[32m27\u001b[39m,\n",
       "  \u001b[32m29\u001b[39m,\n",
       "  \u001b[32m31\u001b[39m,\n",
       "  \u001b[32m33\u001b[39m,\n",
       "  \u001b[32m35\u001b[39m,\n",
       "  \u001b[32m37\u001b[39m,\n",
       "  \u001b[32m39\u001b[39m\n",
       ")\n",
       "\u001b[36modds\u001b[39m: \u001b[32mStream\u001b[39m[\u001b[32mInt\u001b[39m] = \u001b[33mStream\u001b[39m(\u001b[32m3\u001b[39m, \u001b[32m5\u001b[39m)\n",
       "\u001b[36mcomposites\u001b[39m: \u001b[32mStream\u001b[39m[\u001b[32mInt\u001b[39m] = \u001b[33mStream\u001b[39m(\u001b[32m9\u001b[39m, \u001b[32m15\u001b[39m, \u001b[32m21\u001b[39m, \u001b[32m27\u001b[39m, \u001b[32m33\u001b[39m, \u001b[32m39\u001b[39m, \u001b[32m25\u001b[39m, \u001b[32m35\u001b[39m)\n",
       "\u001b[36mres4_3\u001b[39m: \u001b[32mList\u001b[39m[\u001b[32mInt\u001b[39m] = \u001b[33mList\u001b[39m(\u001b[32m3\u001b[39m, \u001b[32m5\u001b[39m, \u001b[32m7\u001b[39m, \u001b[32m11\u001b[39m, \u001b[32m13\u001b[39m, \u001b[32m17\u001b[39m, \u001b[32m19\u001b[39m, \u001b[32m23\u001b[39m, \u001b[32m29\u001b[39m, \u001b[32m31\u001b[39m, \u001b[32m37\u001b[39m)"
      ]
     },
     "execution_count": 5,
     "metadata": {},
     "output_type": "execute_result"
    }
   ],
   "source": [
    "val allToCheck = Stream.from(3, 2).takeWhile(_ <= 40)\n",
    "val odds = Stream.from(3, 2).takeWhile(_ <= sqrt(40).toInt)\n",
    "val composites = odds.flatMap(i => Stream.from(i * i, 2 * i).takeWhile(_ <= 40))\n",
    "Stream.from(3, 2).takeWhile(_ <= 40).diff(composites).toList"
   ]
  },
  {
   "cell_type": "markdown",
   "metadata": {
    "id": "DNjIR6SQDAjO"
   },
   "source": [
    "Pedimos calcular todos los primos que hay hasta el 20 (en lugar de los 20 primeros)"
   ]
  },
  {
   "cell_type": "code",
   "execution_count": 6,
   "metadata": {
    "colab": {
     "base_uri": "https://localhost:8080/"
    },
    "id": "DMH8NBnADEhW",
    "outputId": "5b25953b-18e8-459c-bb48-8b7f03a06cc5"
   },
   "outputs": [
    {
     "data": {
      "text/plain": [
       "\u001b[36mres5\u001b[39m: (\u001b[32mList\u001b[39m[\u001b[32mInt\u001b[39m], \u001b[32mconcurrent\u001b[39m.\u001b[32mduration\u001b[39m.\u001b[32mFiniteDuration\u001b[39m) = (\n",
       "  \u001b[33mList\u001b[39m(\u001b[32m3\u001b[39m, \u001b[32m5\u001b[39m, \u001b[32m7\u001b[39m, \u001b[32m11\u001b[39m, \u001b[32m13\u001b[39m, \u001b[32m17\u001b[39m, \u001b[32m19\u001b[39m, \u001b[32m23\u001b[39m, \u001b[32m29\u001b[39m, \u001b[32m31\u001b[39m, \u001b[32m37\u001b[39m),\n",
       "  876479 nanoseconds\n",
       ")"
      ]
     },
     "execution_count": 6,
     "metadata": {},
     "output_type": "execute_result"
    }
   ],
   "source": [
    "time { primesFunctional(40) }"
   ]
  },
  {
   "cell_type": "markdown",
   "metadata": {
    "id": "MEzqSwzGCwex"
   },
   "source": [
    "### Versión iterativa clásica"
   ]
  },
  {
   "cell_type": "code",
   "execution_count": 7,
   "metadata": {
    "colab": {
     "base_uri": "https://localhost:8080/"
    },
    "id": "t9LSUQFLC2kS",
    "outputId": "f66a1c45-2064-4cb1-ab82-253a1b517874"
   },
   "outputs": [
    {
     "data": {
      "text/plain": [
       "defined \u001b[32mfunction\u001b[39m \u001b[36mprimesIterative\u001b[39m"
      ]
     },
     "execution_count": 7,
     "metadata": {},
     "output_type": "execute_result"
    }
   ],
   "source": [
    "def primesIterative(lastToCheck: Int): List[Int] = {\n",
    "  // marcar con 1 todos los indices\n",
    "  val primeIndices = collection.mutable.ArrayBuffer.fill((lastToCheck + 1) / 2)(1)\n",
    "  // examinar solo hasta la raíz cuadrada de lastToCheck\n",
    "  val intSqrt = sqrt(lastToCheck).toInt\n",
    "  // comprobar solo los impares\n",
    "  for (i <- 3 to lastToCheck by 2 if i <= intSqrt) {\n",
    "    // ...solo desde el cuadrado de i\n",
    "    for (nonPrime <- i * i to lastToCheck by 2 * i) {\n",
    "      // marcarlo un 0 (no es primo) en primeIndices\n",
    "      primeIndices.update(nonPrime / 2, 0)\n",
    "    }\n",
    "  }\n",
    "  (for (i <- primeIndices.indices if primeIndices(i) == 1) yield 2 * i + 1).tail.toList\n",
    "}"
   ]
  },
  {
   "cell_type": "markdown",
   "metadata": {
    "id": "0gx8CLwGDlgI"
   },
   "source": [
    "Pedimos calcular todos los primos hasta el 20..."
   ]
  },
  {
   "cell_type": "code",
   "execution_count": 8,
   "metadata": {
    "colab": {
     "base_uri": "https://localhost:8080/"
    },
    "id": "XPl9y9IcDcgd",
    "outputId": "13de0942-4e94-4aa8-9c79-32d1e83741a9"
   },
   "outputs": [
    {
     "data": {
      "text/plain": [
       "\u001b[36mres7\u001b[39m: (\u001b[32mList\u001b[39m[\u001b[32mInt\u001b[39m], \u001b[32mconcurrent\u001b[39m.\u001b[32mduration\u001b[39m.\u001b[32mFiniteDuration\u001b[39m) = (\n",
       "  \u001b[33mList\u001b[39m(\u001b[32m3\u001b[39m, \u001b[32m5\u001b[39m, \u001b[32m7\u001b[39m, \u001b[32m11\u001b[39m, \u001b[32m13\u001b[39m, \u001b[32m17\u001b[39m, \u001b[32m19\u001b[39m, \u001b[32m23\u001b[39m, \u001b[32m29\u001b[39m, \u001b[32m31\u001b[39m, \u001b[32m37\u001b[39m),\n",
       "  2222135 nanoseconds\n",
       ")"
      ]
     },
     "execution_count": 8,
     "metadata": {},
     "output_type": "execute_result"
    }
   ],
   "source": [
    "time { primesIterative(40) }"
   ]
  },
  {
   "cell_type": "markdown",
   "metadata": {
    "id": "tZNS6A79EAK1"
   },
   "source": [
    "Parecen soluciones equivalentes, ¿no? Pero, ¿y si pedimos calcular más? Primero iterativo..."
   ]
  },
  {
   "cell_type": "code",
   "execution_count": 9,
   "metadata": {
    "colab": {
     "base_uri": "https://localhost:8080/"
    },
    "id": "4zLMdBg3ECAQ",
    "outputId": "4ca3d326-c629-4639-a2a6-e6ee68cff8b7"
   },
   "outputs": [
    {
     "data": {
      "text/plain": [
       "\u001b[36mres8\u001b[39m: (\u001b[32mList\u001b[39m[\u001b[32mInt\u001b[39m], \u001b[32mconcurrent\u001b[39m.\u001b[32mduration\u001b[39m.\u001b[32mFiniteDuration\u001b[39m) = (\n",
       "  \u001b[33mList\u001b[39m(\n",
       "    \u001b[32m3\u001b[39m,\n",
       "    \u001b[32m5\u001b[39m,\n",
       "    \u001b[32m7\u001b[39m,\n",
       "    \u001b[32m11\u001b[39m,\n",
       "    \u001b[32m13\u001b[39m,\n",
       "    \u001b[32m17\u001b[39m,\n",
       "    \u001b[32m19\u001b[39m,\n",
       "    \u001b[32m23\u001b[39m,\n",
       "    \u001b[32m29\u001b[39m,\n",
       "    \u001b[32m31\u001b[39m,\n",
       "    \u001b[32m37\u001b[39m,\n",
       "    \u001b[32m41\u001b[39m,\n",
       "    \u001b[32m43\u001b[39m,\n",
       "    \u001b[32m47\u001b[39m,\n",
       "    \u001b[32m53\u001b[39m,\n",
       "    \u001b[32m59\u001b[39m,\n",
       "    \u001b[32m61\u001b[39m,\n",
       "    \u001b[32m67\u001b[39m,\n",
       "    \u001b[32m71\u001b[39m,\n",
       "    \u001b[32m73\u001b[39m,\n",
       "    \u001b[32m79\u001b[39m,\n",
       "    \u001b[32m83\u001b[39m,\n",
       "    \u001b[32m89\u001b[39m,\n",
       "    \u001b[32m97\u001b[39m,\n",
       "    \u001b[32m101\u001b[39m,\n",
       "    \u001b[32m103\u001b[39m,\n",
       "    \u001b[32m107\u001b[39m,\n",
       "    \u001b[32m109\u001b[39m,\n",
       "    \u001b[32m113\u001b[39m,\n",
       "    \u001b[32m127\u001b[39m,\n",
       "    \u001b[32m131\u001b[39m,\n",
       "    \u001b[32m137\u001b[39m,\n",
       "    \u001b[32m139\u001b[39m,\n",
       "    \u001b[32m149\u001b[39m,\n",
       "    \u001b[32m151\u001b[39m,\n",
       "    \u001b[32m157\u001b[39m,\n",
       "    \u001b[32m163\u001b[39m,\n",
       "..."
      ]
     },
     "execution_count": 9,
     "metadata": {},
     "output_type": "execute_result"
    }
   ],
   "source": [
    "time { primesIterative(200000) }"
   ]
  },
  {
   "cell_type": "markdown",
   "metadata": {
    "id": "3uCN32HoECu3"
   },
   "source": [
    "...y luego funcional..."
   ]
  },
  {
   "cell_type": "code",
   "execution_count": 10,
   "metadata": {
    "colab": {
     "base_uri": "https://localhost:8080/"
    },
    "id": "vjFIG50aEDAD",
    "outputId": "53afc8ae-6811-4902-cd3b-b3471a83b046"
   },
   "outputs": [
    {
     "data": {
      "text/plain": [
       "\u001b[36mres9\u001b[39m: (\u001b[32mList\u001b[39m[\u001b[32mInt\u001b[39m], \u001b[32mconcurrent\u001b[39m.\u001b[32mduration\u001b[39m.\u001b[32mFiniteDuration\u001b[39m) = (\n",
       "  \u001b[33mList\u001b[39m(\n",
       "    \u001b[32m3\u001b[39m,\n",
       "    \u001b[32m5\u001b[39m,\n",
       "    \u001b[32m7\u001b[39m,\n",
       "    \u001b[32m11\u001b[39m,\n",
       "    \u001b[32m13\u001b[39m,\n",
       "    \u001b[32m17\u001b[39m,\n",
       "    \u001b[32m19\u001b[39m,\n",
       "    \u001b[32m23\u001b[39m,\n",
       "    \u001b[32m29\u001b[39m,\n",
       "    \u001b[32m31\u001b[39m,\n",
       "    \u001b[32m37\u001b[39m,\n",
       "    \u001b[32m41\u001b[39m,\n",
       "    \u001b[32m43\u001b[39m,\n",
       "    \u001b[32m47\u001b[39m,\n",
       "    \u001b[32m53\u001b[39m,\n",
       "    \u001b[32m59\u001b[39m,\n",
       "    \u001b[32m61\u001b[39m,\n",
       "    \u001b[32m67\u001b[39m,\n",
       "    \u001b[32m71\u001b[39m,\n",
       "    \u001b[32m73\u001b[39m,\n",
       "    \u001b[32m79\u001b[39m,\n",
       "    \u001b[32m83\u001b[39m,\n",
       "    \u001b[32m89\u001b[39m,\n",
       "    \u001b[32m97\u001b[39m,\n",
       "    \u001b[32m101\u001b[39m,\n",
       "    \u001b[32m103\u001b[39m,\n",
       "    \u001b[32m107\u001b[39m,\n",
       "    \u001b[32m109\u001b[39m,\n",
       "    \u001b[32m113\u001b[39m,\n",
       "    \u001b[32m127\u001b[39m,\n",
       "    \u001b[32m131\u001b[39m,\n",
       "    \u001b[32m137\u001b[39m,\n",
       "    \u001b[32m139\u001b[39m,\n",
       "    \u001b[32m149\u001b[39m,\n",
       "    \u001b[32m151\u001b[39m,\n",
       "    \u001b[32m157\u001b[39m,\n",
       "    \u001b[32m163\u001b[39m,\n",
       "..."
      ]
     },
     "execution_count": 10,
     "metadata": {},
     "output_type": "execute_result"
    }
   ],
   "source": [
    "time { primesFunctional(200000) }"
   ]
  },
  {
   "cell_type": "markdown",
   "metadata": {
    "id": "FlJiMSOd-DGV"
   },
   "source": [
    "# Conclusions\n",
    "\n",
    "In this episode, we have learned the basics of Scala and covered below key concepts with excercises.\n",
    "\n",
    "* Running Scala in Google colab\n",
    "* Basic Scala Data Types\n",
    "* Scala Functions and Classes\n",
    "* Paralel Processing in Scala\n",
    "\n"
   ]
  },
  {
   "cell_type": "code",
   "execution_count": null,
   "metadata": {},
   "outputs": [],
   "source": []
  }
 ],
 "metadata": {
  "colab": {
   "collapsed_sections": [
    "n1xiPW3oZ9Ey",
    "tozzNiUWt9iQ",
    "SsJkK5_XuypG",
    "tLMwTzm4y_WR"
   ],
   "provenance": [],
   "toc_visible": true
  },
  "kernelspec": {
   "display_name": "Scala 2.12.11",
   "language": "scala",
   "name": "scala_2_12_11"
  },
  "language_info": {
   "codemirror_mode": "text/x-scala",
   "file_extension": ".scala",
   "mimetype": "text/x-scala",
   "name": "scala",
   "nbconvert_exporter": "script",
   "version": "2.12.11"
  }
 },
 "nbformat": 4,
 "nbformat_minor": 1
}
